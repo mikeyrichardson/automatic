{
 "cells": [
  {
   "cell_type": "code",
   "execution_count": null,
   "metadata": {
    "collapsed": false
   },
   "outputs": [],
   "source": [
    "from __future__ import division\n",
    "import numpy as np\n",
    "import pandas as pd\n",
    "import json\n",
    "import requests\n",
    "import datetime\n",
    "import dateutil\n",
    "pd.set_option('display.max_rows', 200)"
   ]
  },
  {
   "cell_type": "code",
   "execution_count": null,
   "metadata": {
    "collapsed": false
   },
   "outputs": [],
   "source": [
    "def get_json_data(url, auth_token, max_results=None):\n",
    "    max_results_per_request = 250\n",
    "    if max_results:\n",
    "        num_requests_needed = max_results // max_results_per_request + 1\n",
    "        results_per_request = max_results // num_requests_needed\n",
    "        if max_results % num_requests_needed != 0:\n",
    "            results_per_request += 1\n",
    "    else:\n",
    "        results_per_request = max_results_per_request\n",
    "                \n",
    "    response_json = get_one_json_page(url, auth_token, results_per_request)\n",
    "    \n",
    "    next_page_url = response_json['_metadata']['next']\n",
    "    results = response_json['results']\n",
    "    \n",
    "    if max_results:\n",
    "        return results\n",
    "    \n",
    "    while next_page_url is not None:\n",
    "        response_json = get_one_json_page(next_page_url, auth_token, results_per_request)\n",
    "        next_page_url = response_json['_metadata']['next']\n",
    "        results.extend(response_json['results'])\n",
    "        if max_results and len(results) > max_results:\n",
    "            break\n",
    "    \n",
    "    if max_results:\n",
    "        results = results[:max_results]\n",
    "    return results\n",
    "\n",
    "def get_one_json_page(url, auth_token, results_limit, page=None):\n",
    "    headers = {'Authorization': 'Bearer {}'.format(auth_token)}\n",
    "    params = {'limit': results_limit}\n",
    "    if page:\n",
    "        params['page'] = page\n",
    "    response = requests.get(url, headers=headers, params=params)\n",
    "    response.raise_for_status()\n",
    "    return response.json()"
   ]
  },
  {
   "cell_type": "code",
   "execution_count": null,
   "metadata": {
    "collapsed": true
   },
   "outputs": [],
   "source": [
    "auth_token = '65122dde5ab2841a7e11e11ed30dde88ffd3b4c0'"
   ]
  },
  {
   "cell_type": "code",
   "execution_count": null,
   "metadata": {
    "collapsed": false
   },
   "outputs": [],
   "source": [
    "def get_summary(auth_id):\n",
    "    trip_url = 'https://api.automatic.com/trip/'\n",
    "    json_trip_data = get_json_data(trip_url, auth_id)\n",
    "    trip_df = pd.DataFrame(json_trip_data)\n",
    "    vehicle_url = 'https://api.automatic.com/vehicle'\n",
    "    json_vehicle_data = get_json_data(vehicle_url, auth_id)\n",
    "    vehicle_df = pd.DataFrame(json_vehicle_data)\n",
    "    summary = {}\n",
    "    summary['overall_summary'] = get_trip_summary(trip_df)\n",
    "    summary.update(get_per_vehicle_summary(trip_df, vehicle_df))\n",
    "    return summary"
   ]
  },
  {
   "cell_type": "code",
   "execution_count": null,
   "metadata": {
    "collapsed": true
   },
   "outputs": [],
   "source": [
    "def get_trip_summary(trip_df):\n",
    "    summary = {}\n",
    "    summary.update(get_speeding_fraction_summary(trip_df))\n",
    "    summary.update(get_vehicle_event_summary(trip_df))\n",
    "    return summary"
   ]
  },
  {
   "cell_type": "code",
   "execution_count": null,
   "metadata": {
    "collapsed": true
   },
   "outputs": [],
   "source": [
    "def get_per_vehicle_summary(trip_df, vehicle_df):\n",
    "    per_vehicle_summaries = {}\n",
    "    for vehicle_url, df in trip_df.groupby('vehicle'):\n",
    "        per_vehicle_summaries[vehicle_url] = get_trip_summary(df)\n",
    "        per_vehicle_summaries[vehicle_url].update(get_vehicle_info(vehicle_url, vehicle_df))\n",
    "    summary = {}\n",
    "    summary['per_vehicle_summaries'] = per_vehicle_summaries\n",
    "    return summary"
   ]
  },
  {
   "cell_type": "code",
   "execution_count": null,
   "metadata": {
    "collapsed": true
   },
   "outputs": [],
   "source": [
    "def get_vehicle_info(vehicle_url, vehicle_df):\n",
    "    summary = {}\n",
    "    if vehicle_url not in vehicle_df.url.values:\n",
    "        return summary\n",
    "    vehicle_row = vehicle_df[vehicle_df.url == vehicle_url].iloc[0]\n",
    "    summary = vehicle_row[['make', 'model', 'submodel', 'year']].to_dict()\n",
    "#     summary['make'] = vehicle_row['make']\n",
    "#     summary['model'] = vehicle_row['model']\n",
    "#     summary['submodel'] = vehicle_row['submodel']\n",
    "#     summary['year'] = vehicle_row['year']\n",
    "    return summary"
   ]
  },
  {
   "cell_type": "code",
   "execution_count": null,
   "metadata": {
    "collapsed": true
   },
   "outputs": [],
   "source": [
    "def get_speeding_fraction_summary(trip_df):\n",
    "    summary = {}\n",
    "    highway_duration = (trip_df.duration_s * trip_df.highway_fraction).sum()\n",
    "    if highway_duration == 0:\n",
    "        summary['fraction_highway_time_over_70'] = 0\n",
    "        summary['fraction_highway_time_over_75'] = 0\n",
    "        summary['fraction_highway_time_over_80'] = 0\n",
    "    else:\n",
    "        summary['fraction_highway_time_over_70'] = (trip_df.duration_over_70_s.sum() / \n",
    "                                                    highway_duration)\n",
    "        summary['fraction_highway_time_over_75'] = (trip_df.duration_over_75_s.sum() / \n",
    "                                                    highway_duration)\n",
    "        summary['fraction_highway_time_over_80'] = (trip_df.duration_over_80_s.sum() / \n",
    "                                                    highway_duration)\n",
    "    return summary"
   ]
  },
  {
   "cell_type": "code",
   "execution_count": null,
   "metadata": {
    "collapsed": true
   },
   "outputs": [],
   "source": [
    "def get_vehicle_event_summary(trip_df):\n",
    "    kph_to_mph_conversion_factor = 0.621371\n",
    "    max_speed = 0\n",
    "    sum_speed_duration_product = 0\n",
    "    sum_speeding_duration = 0\n",
    "    sum_gforce_brake = 0\n",
    "    count_gforce_brake = 0\n",
    "    max_gforce_brake = 0\n",
    "    sum_gforce_accel = 0\n",
    "    count_gforce_accel = 0\n",
    "    max_gforce_accel = 0\n",
    "    summary = {}\n",
    "    for vehicle_event_list in trip_df.vehicle_events:\n",
    "        for event in vehicle_event_list:\n",
    "            if event['type'] == 'hard_brake':\n",
    "                if event['g_force'] > max_gforce_brake:\n",
    "                    max_gforce_brake = event['g_force']\n",
    "                sum_gforce_brake += event['g_force']\n",
    "                count_gforce_brake += 1\n",
    "            elif event['type'] == 'hard_accel':\n",
    "                if event['g_force'] > max_gforce_accel:\n",
    "                    max_gforce_accel = event['g_force']\n",
    "                sum_gforce_accel += event['g_force']\n",
    "                count_gforce_accel += 1               \n",
    "            elif event['type'] == 'speeding':\n",
    "                event_start = dateutil.parser.parse(event['started_at'])\n",
    "                event_end = dateutil.parser.parse(event['ended_at'])\n",
    "                duration = (event_end - event_start).total_seconds()\n",
    "                if event['velocity_kph'] > max_speed:\n",
    "                    max_speed = event['velocity_kph']\n",
    "                sum_speed_duration_product += event['velocity_kph'] * duration\n",
    "                sum_speeding_duration += duration\n",
    "    if sum_speeding_duration == 0:\n",
    "        summary['max_speed_while_speeding_mph'] = 0\n",
    "        summary['avg_speed_while_speeding_mph'] = 0\n",
    "    else:\n",
    "        summary['max_speed_while_speeding_mph'] = max_speed * kph_to_mph_conversion_factor\n",
    "        summary['avg_speed_while_speeding_mph'] = (sum_speed_duration_product / \n",
    "                                                   sum_speeding_duration *\n",
    "                                                   kph_to_mph_conversion_factor)\n",
    "    if count_gforce_brake == 0:\n",
    "        summary['max_gforce_from_hard_brakes'] = 0\n",
    "        summary['avg_gforce_from_hard_brakes'] = 0\n",
    "    else:\n",
    "        summary['max_gforce_from_hard_brakes'] = max_gforce_brake\n",
    "        summary['avg_gforce_from_hard_brakes'] = sum_gforce_brake / count_gforce_brake\n",
    "        \n",
    "    if count_gforce_accel == 0:\n",
    "        summary['max_gforce_from_hard_accels'] = 0\n",
    "        summary['avg_gforce_from_hard_accels'] = 0\n",
    "    else:\n",
    "        summary['max_gforce_from_hard_accels'] = max_gforce_accel\n",
    "        summary['avg_gforce_from_hard_accels'] = sum_gforce_accel / count_gforce_accel\n",
    "    return summary"
   ]
  },
  {
   "cell_type": "code",
   "execution_count": null,
   "metadata": {
    "collapsed": false
   },
   "outputs": [],
   "source": [
    "summary = get_summary(auth_token)"
   ]
  },
  {
   "cell_type": "code",
   "execution_count": null,
   "metadata": {
    "collapsed": false
   },
   "outputs": [],
   "source": [
    "summary['overall_summary']"
   ]
  },
  {
   "cell_type": "code",
   "execution_count": null,
   "metadata": {
    "collapsed": true
   },
   "outputs": [],
   "source": [
    "summ_df = pd.DataFrame(summary['per_vehicle_summaries'])"
   ]
  },
  {
   "cell_type": "code",
   "execution_count": null,
   "metadata": {
    "collapsed": false
   },
   "outputs": [],
   "source": [
    "summ_df.transpose()"
   ]
  },
  {
   "cell_type": "code",
   "execution_count": null,
   "metadata": {
    "collapsed": false
   },
   "outputs": [],
   "source": [
    "summary['per_vehicle_summaries']"
   ]
  },
  {
   "cell_type": "code",
   "execution_count": null,
   "metadata": {
    "collapsed": true
   },
   "outputs": [],
   "source": []
  },
  {
   "cell_type": "code",
   "execution_count": null,
   "metadata": {
    "collapsed": true
   },
   "outputs": [],
   "source": []
  },
  {
   "cell_type": "code",
   "execution_count": null,
   "metadata": {
    "collapsed": true
   },
   "outputs": [],
   "source": []
  }
 ],
 "metadata": {
  "kernelspec": {
   "display_name": "Python 2",
   "language": "python",
   "name": "python2"
  },
  "language_info": {
   "codemirror_mode": {
    "name": "ipython",
    "version": 2
   },
   "file_extension": ".py",
   "mimetype": "text/x-python",
   "name": "python",
   "nbconvert_exporter": "python",
   "pygments_lexer": "ipython2",
   "version": "2.7.10"
  }
 },
 "nbformat": 4,
 "nbformat_minor": 0
}
