{
 "cells": [
  {
   "cell_type": "code",
   "execution_count": null,
   "metadata": {
    "collapsed": false
   },
   "outputs": [],
   "source": [
    "from __future__ import division\n",
    "import numpy as np\n",
    "import pandas as pd\n",
    "import json\n",
    "import requests\n",
    "import datetime\n",
    "import dateutil\n",
    "pd.set_option('display.max_rows', 200)\n",
    "kph_to_mph_conversion_factor = 0.621371\n",
    "liters_to_gallons_conversion_factor = 0.264172"
   ]
  },
  {
   "cell_type": "code",
   "execution_count": null,
   "metadata": {
    "collapsed": false
   },
   "outputs": [],
   "source": [
    "def get_json_data(url, auth_token, max_results=None, **kwargs):\n",
    "    \"\"\"Fetch and parse json data from a url\n",
    "    \n",
    "    This function makes an API call to `url` using the authentication\n",
    "    token `auth_token`. A maximum number of results can be specified.\n",
    "    If `max_results` is not specified, all results will be fetched.\n",
    "    The json responses are parsed and returned as a dict.\n",
    "    \n",
    "    Args:\n",
    "        url (str): A url that implements the automatic list API as described at\n",
    "                   https://developer.automatic.com/api-reference/#rest-api\n",
    "        auth_token (str): An oauth authentication token\n",
    "        max_results (int): A maximum amount of results\n",
    "        kwargs: Remaining keyword arguments are used as parameters\n",
    "                in the API request\n",
    "    \n",
    "    Returns:\n",
    "        dict: Contains the parsed json results of the API call(s)\n",
    "    \"\"\"\n",
    "    max_results_per_request = 250\n",
    "    if max_results:\n",
    "        num_requests_needed = max_results // max_results_per_request + 1\n",
    "        results_per_request = max_results // num_requests_needed\n",
    "        if max_results % num_requests_needed != 0:\n",
    "            results_per_request += 1\n",
    "        kwargs['limit'] = results_per_request\n",
    "    elif 'limit' not in kwargs:\n",
    "        kwargs['limit'] = max_results_per_request\n",
    "                \n",
    "    response_json = get_one_json_page(url, auth_token, **kwargs)\n",
    "    next_page_url = response_json['_metadata']['next']\n",
    "    results = response_json['results']\n",
    "    \n",
    "    if max_results:\n",
    "        return results\n",
    "    \n",
    "    while next_page_url is not None:\n",
    "        response_json = get_one_json_page(next_page_url, auth_token, **kwargs)\n",
    "        next_page_url = response_json['_metadata']['next']\n",
    "        results.extend(response_json['results'])\n",
    "        if max_results and len(results) > max_results:\n",
    "            break\n",
    "    \n",
    "    if max_results:\n",
    "        results = results[:max_results]\n",
    "    return results\n",
    "\n",
    "def get_one_json_page(url, auth_token, **kwargs):\n",
    "    headers = {'Authorization': 'Bearer {}'.format(auth_token)}\n",
    "    response = requests.get(url, headers=headers, params=kwargs)\n",
    "    response.raise_for_status()\n",
    "    return response.json()"
   ]
  },
  {
   "cell_type": "code",
   "execution_count": null,
   "metadata": {
    "collapsed": false
   },
   "outputs": [],
   "source": [
    "def get_summary(auth_token, start_date=None, end_date=None):\n",
    "    \"\"\"Get a summary of all the trips associated with an authentication token\n",
    "    \n",
    "    Args:\n",
    "        auth_token (str): An oauth authentication token\n",
    "        start_date (datetime): Only trips started on or after `start_date`\n",
    "                               will be included in the summary\n",
    "        end_date (datetime): Only trips started on or before `end_date`\n",
    "                             will be included in the summary\n",
    "        \n",
    "    Returns:\n",
    "        dict: Contains an overall summary, a per vehicle summary, and a per weekday\n",
    "              summary of the trips associated with `auth_token` within the specified range\n",
    "    \"\"\"\n",
    "    range_params = {}\n",
    "    if start_date:\n",
    "        seconds_start = (start_date - datetime.datetime(1970,1,1)).total_seconds()\n",
    "        range_params['started_at__gte'] = int(seconds_start)\n",
    "    if end_date:\n",
    "        seconds_end = (end_date - datetime.datetime(1970,1,1)).total_seconds()\n",
    "        range_params['started_at__lte'] = int(seconds_end)\n",
    "    trip_url = 'https://api.automatic.com/trip/'\n",
    "    json_trip_data = get_json_data(trip_url, auth_token, **range_params)\n",
    "    trip_df = pd.DataFrame(json_trip_data)\n",
    "    vehicle_url = 'https://api.automatic.com/vehicle'\n",
    "    json_vehicle_data = get_json_data(vehicle_url, auth_token)\n",
    "    vehicle_df = pd.DataFrame(json_vehicle_data)\n",
    "    summary = {}\n",
    "    summary['overall_summary'] = get_trip_summary(trip_df)\n",
    "    summary.update(get_per_vehicle_summary(trip_df, vehicle_df))\n",
    "    summary.update(get_per_day_of_week_summary(trip_df))\n",
    "    return summary"
   ]
  },
  {
   "cell_type": "code",
   "execution_count": null,
   "metadata": {
    "collapsed": true
   },
   "outputs": [],
   "source": [
    "def get_per_vehicle_summary(trip_df, vehicle_df):\n",
    "    \"\"\"Generate a per_vehicle summary from the trip entries in the dataframe\n",
    "    \n",
    "    Args:\n",
    "        trip_df (pandas.DataFrame): A data frame containing information for \n",
    "                                    different trips on each row. Each row must contain\n",
    "                                    the fields from automatic's trip object as described\n",
    "                                    at https://developer.automatic.com/api-reference/#api-objects\n",
    "        vehicle_df (pandas.DataFrame): A data frame containing information for \n",
    "                                       different vehicles on each row. Each row must contain\n",
    "                                       the fields from automatic's vehicle object as described\n",
    "                                       at https://developer.automatic.com/api-reference/#api-objects\n",
    "                                    \n",
    "    Returns:\n",
    "        dict: Contains a per vehicle summary of the trips in trip_df along with\n",
    "              information about the vehicle if it is available in `vehicle_df`\n",
    "    \"\"\"\n",
    "    \n",
    "    if len(trip_df) == 0:\n",
    "        return {}\n",
    "    \n",
    "    summary = {}    \n",
    "    summary['vehicles'] = {}     \n",
    "    summary['per_vehicle_summaries'] = {}\n",
    "    for vehicle_url, df in trip_df.groupby('vehicle'):\n",
    "        summary['per_vehicle_summaries'][vehicle_url] = get_trip_summary(df)\n",
    "        if vehicle_url not in summary['vehicles']:\n",
    "            summary['vehicles'][vehicle_url] = {}\n",
    "    \n",
    "    # include information for known vehicles\n",
    "    if len(vehicle_df) != 0:\n",
    "        vehicle_df = vehicle_df[['url', 'make', 'model', 'submodel', 'year']]\n",
    "        vehicles = vehicle_df.set_index('url').transpose().to_dict()\n",
    "        for url in vehicles:\n",
    "            if url in summary['vehicles']:\n",
    "                summary['vehicles'][url] = vehicles[url]\n",
    "            \n",
    "    return summary"
   ]
  },
  {
   "cell_type": "code",
   "execution_count": null,
   "metadata": {
    "collapsed": true
   },
   "outputs": [],
   "source": [
    "def get_per_day_of_week_summary(trip_df):\n",
    "    \"\"\"Generate a per_day_of_week summary from the trip entries in the dataframe\n",
    "    \n",
    "    Args:\n",
    "        trip_df (pandas.DataFrame): A data frame containing information for \n",
    "                                    different trips on each row. Each row must contain\n",
    "                                    the fields from automatic's trip object as described\n",
    "                                    at https://developer.automatic.com/api-reference/#trip\n",
    "        vehicle_df (pandas.DataFrame): A data frame containing information for \n",
    "                                       different vehicles on each row. Each row must contain\n",
    "                                       the fields from automatic's vehicle object as described\n",
    "                                       at https://developer.automatic.com/api-reference/#api-objects\n",
    "                                    \n",
    "    Returns:\n",
    "        dict: Contains a per vehicle summary of the trips in trip_df along with\n",
    "              information about the vehicle if it is available in `vehicle_df`\n",
    "    \"\"\"\n",
    "    \n",
    "    if len(trip_df) == 0:\n",
    "        return {}\n",
    "    per_day_of_week_summaries = {}\n",
    "    days_of_week = trip_df.started_at.apply(extract_day_of_week)\n",
    "    for day_of_week, df in trip_df.groupby(days_of_week):\n",
    "        per_day_of_week_summaries[day_of_week] = get_trip_summary(df)\n",
    "    summary = {}\n",
    "    summary['per_day_of_week_summaries'] = per_day_of_week_summaries\n",
    "    return summary\n",
    "\n",
    "def extract_day_of_week(date_string):\n",
    "    return dateutil.parser.parse(date_string).strftime('%A')"
   ]
  },
  {
   "cell_type": "code",
   "execution_count": null,
   "metadata": {
    "collapsed": true
   },
   "outputs": [],
   "source": [
    "def get_trip_summary(trip_df):\n",
    "    \"\"\"Generate a trip summary from the trip entries in the dataframe\n",
    "    \n",
    "    Args:\n",
    "        trip_df (pandas.DataFrame): A data frame containing information for \n",
    "                                    different trips on each row. Each row must contain\n",
    "                                    the fields from automatic's trip object as described\n",
    "                                    at https://developer.automatic.com/api-reference/#api-objects\n",
    "                                    \n",
    "    Returns:\n",
    "        dict: Contains an overall summary and a per vehicle summary of the\n",
    "              trips in trip_df\n",
    "    \"\"\"\n",
    "    \n",
    "    if len(trip_df) == 0:\n",
    "        return {}\n",
    "    summary = {}\n",
    "    summary_functions = [get_basic_trip_summary,\n",
    "                         get_tag_count_summary,\n",
    "                         get_highway_speeding_fraction_summary,\n",
    "                         get_vehicle_event_summary]\n",
    "    for summary_function in summary_functions:\n",
    "        summary.update(summary_function(trip_df))\n",
    "    return summary"
   ]
  },
  {
   "cell_type": "code",
   "execution_count": null,
   "metadata": {
    "collapsed": true
   },
   "outputs": [],
   "source": [
    "def get_basic_trip_summary(trip_df):\n",
    "    \"\"\"Generate a basic summary from the trip entries in the dataframe\n",
    "    \n",
    "    Args:\n",
    "        trip_df (pandas.DataFrame): A data frame containing information for \n",
    "                                    different trips on each row. Each row must contain\n",
    "                                    the fields from automatic's trip object as described\n",
    "                                    at https://developer.automatic.com/api-reference/#api-objects\n",
    "                                    \n",
    "    Returns:\n",
    "        dict: Contains a summary of the trip entries in the `trip_df` dataframe.\n",
    "    \"\"\"\n",
    "    \n",
    "    if len(trip_df) == 0:\n",
    "        return {}\n",
    "    summary = {}\n",
    "    summary['total_num_trips'] = len(trip_df)\n",
    "    summary['total_duration_s'] = trip_df.duration_s.sum()\n",
    "    summary['avg_duration_per_trip_s'] = trip_df.duration_s.mean()\n",
    "    distance_miles = trip_df.distance_m / 1000 * kph_to_mph_conversion_factor\n",
    "    summary['total_miles'] = distance_miles.sum()\n",
    "    summary['avg_miles_per_trip'] = distance_miles.mean()\n",
    "    city_miles = distance_miles * trip_df.city_fraction\n",
    "    summary['total_city_miles'] = city_miles.sum()\n",
    "    summary['avg_city_miles_per_trip'] = city_miles.mean()\n",
    "    highway_miles = distance_miles * trip_df.highway_fraction\n",
    "    summary['total_highway_miles'] = highway_miles.sum()\n",
    "    summary['avg_highway_miles_per_trip'] = highway_miles.mean()\n",
    "    trip_gallons = trip_df.fuel_volume_l * liters_to_gallons_conversion_factor\n",
    "    summary['total_gallons'] = trip_gallons.sum()\n",
    "    summary['avg_gallons_per_trip'] = trip_gallons.mean()\n",
    "    summary['avg_mpg_per_trip'] = summary['total_miles'] / summary['total_gallons']\n",
    "    summary['total_gas_cost'] = trip_df.fuel_cost_usd.sum()\n",
    "    summary['avg_gas_cost_per_trip'] = trip_df.fuel_cost_usd.mean()\n",
    "    \n",
    "    return summary"
   ]
  },
  {
   "cell_type": "code",
   "execution_count": null,
   "metadata": {
    "collapsed": true
   },
   "outputs": [],
   "source": [
    "def get_tag_count_summary(trip_df):\n",
    "    \"\"\"Generate a tag count summary from the trip entries in the dataframe\n",
    "    \n",
    "    Args:\n",
    "        trip_df (pandas.DataFrame): A data frame containing information for \n",
    "                                    different trips on each row. Each row must contain\n",
    "                                    the fields from automatic's trip object as described\n",
    "                                    at https://developer.automatic.com/api-reference/#api-objects\n",
    "                                    \n",
    "    Returns:\n",
    "        dict: Contains a summary of the tag counts from the trips in `trip_df`\n",
    "    \"\"\"\n",
    "    if len(trip_df) == 0:\n",
    "        return {}\n",
    "    summary = {}\n",
    "    tag_counts = {}\n",
    "    for tag_list in trip_df.tags:\n",
    "        for tag in tag_list:\n",
    "            tag_counts[tag] = tag_counts.get(tag, 0) + 1\n",
    "    summary['tag_counts'] = tag_counts\n",
    "    return summary"
   ]
  },
  {
   "cell_type": "code",
   "execution_count": null,
   "metadata": {
    "collapsed": true
   },
   "outputs": [],
   "source": [
    "def get_highway_speeding_fraction_summary(trip_df):\n",
    "    \"\"\"Generate a speeding fraction summary from the trip entries in df\n",
    "    \n",
    "    Args:\n",
    "        trip_df (pandas.DataFrame): A data frame containing information for \n",
    "                                    different trips on each row. Each row must contain\n",
    "                                    the fields from automatic's trip object as described\n",
    "                                    at https://developer.automatic.com/api-reference/#api-objects\n",
    "                                    \n",
    "    Returns:\n",
    "        dict: Contains a summary of the fractions of time spent over the speeds\n",
    "              of 70, 75, and 80 mph or an empty dict if no highway time\n",
    "              during the trips\n",
    "    \"\"\"\n",
    "    \n",
    "    if len(trip_df) == 0:\n",
    "        return {}\n",
    "    summary = {}\n",
    "    highway_duration = (trip_df.duration_s * trip_df.highway_fraction).sum()\n",
    "    if highway_duration == 0:\n",
    "        return summary\n",
    "    summary['fraction_highway_time_over_70'] = (trip_df.duration_over_70_s.sum() / \n",
    "                                                highway_duration)\n",
    "    summary['fraction_highway_time_over_75'] = (trip_df.duration_over_75_s.sum() / \n",
    "                                                highway_duration)\n",
    "    summary['fraction_highway_time_over_80'] = (trip_df.duration_over_80_s.sum() / \n",
    "                                                highway_duration)\n",
    "    return summary"
   ]
  },
  {
   "cell_type": "code",
   "execution_count": null,
   "metadata": {
    "collapsed": true
   },
   "outputs": [],
   "source": [
    "def get_vehicle_event_summary(trip_df):\n",
    "    \"\"\"Generate a summary of the events from the trip entries in df\n",
    "    \n",
    "    Args:\n",
    "        trip_df (pandas.DataFrame): A data frame containing information for \n",
    "                                    different trips on each row. Each row must contain\n",
    "                                    the fields from automatic's trip object as described\n",
    "                                    at https://developer.automatic.com/api-reference/#api-objects\n",
    "                                    \n",
    "    Returns:\n",
    "        dict: Contains a summary of three types of vehicle events:\n",
    "              hard brakes, hard accelerations, and speeding. If there are\n",
    "              no events, the dict will be empty\n",
    "    \"\"\"\n",
    "    \n",
    "    if len(trip_df) == 0:\n",
    "        return {}\n",
    "    max_speed = 0\n",
    "    sum_speed_duration_product = 0\n",
    "    sum_speeding_duration = 0\n",
    "    sum_gforce_brake = 0\n",
    "    count_gforce_brake = 0\n",
    "    max_gforce_brake = 0\n",
    "    sum_gforce_accel = 0\n",
    "    count_gforce_accel = 0\n",
    "    max_gforce_accel = 0\n",
    "    summary = {}\n",
    "    for vehicle_event_list in trip_df.vehicle_events:\n",
    "        for event in vehicle_event_list:\n",
    "            if event['type'] == 'hard_brake':\n",
    "                if event['g_force'] > max_gforce_brake:\n",
    "                    max_gforce_brake = event['g_force']\n",
    "                sum_gforce_brake += event['g_force']\n",
    "                count_gforce_brake += 1\n",
    "            elif event['type'] == 'hard_accel':\n",
    "                if event['g_force'] > max_gforce_accel:\n",
    "                    max_gforce_accel = event['g_force']\n",
    "                sum_gforce_accel += event['g_force']\n",
    "                count_gforce_accel += 1               \n",
    "            elif event['type'] == 'speeding':\n",
    "                event_start = dateutil.parser.parse(event['started_at'])\n",
    "                event_end = dateutil.parser.parse(event['ended_at'])\n",
    "                duration = (event_end - event_start).total_seconds()\n",
    "                if event['velocity_kph'] > max_speed:\n",
    "                    max_speed = event['velocity_kph']\n",
    "                sum_speed_duration_product += event['velocity_kph'] * duration\n",
    "                sum_speeding_duration += duration\n",
    "    if sum_speeding_duration > 0:\n",
    "        summary['max_speed_while_speeding_mph'] = max_speed * kph_to_mph_conversion_factor\n",
    "        summary['avg_speed_while_speeding_mph'] = (sum_speed_duration_product / \n",
    "                                                   sum_speeding_duration *\n",
    "                                                   kph_to_mph_conversion_factor)\n",
    "    if count_gforce_brake > 0:\n",
    "        summary['max_gforce_during_hard_brakes'] = max_gforce_brake\n",
    "        summary['avg_gforce_during_hard_brakes'] = sum_gforce_brake / count_gforce_brake\n",
    "        \n",
    "    if count_gforce_accel > 0:\n",
    "        summary['max_gforce_during_hard_accels'] = max_gforce_accel\n",
    "        summary['avg_gforce_during_hard_accels'] = sum_gforce_accel / count_gforce_accel\n",
    "    return summary"
   ]
  },
  {
   "cell_type": "code",
   "execution_count": null,
   "metadata": {
    "collapsed": false
   },
   "outputs": [],
   "source": [
    "auth_token = '65122dde5ab2841a7e11e11ed30dde88ffd3b4c0'\n",
    "summary = get_summary(auth_token, start_date=datetime.datetime(2013,7,1))"
   ]
  },
  {
   "cell_type": "code",
   "execution_count": null,
   "metadata": {
    "collapsed": false
   },
   "outputs": [],
   "source": [
    "summary.keys()"
   ]
  },
  {
   "cell_type": "code",
   "execution_count": null,
   "metadata": {
    "collapsed": false
   },
   "outputs": [],
   "source": [
    "summary['overall_summary']"
   ]
  },
  {
   "cell_type": "code",
   "execution_count": null,
   "metadata": {
    "collapsed": false
   },
   "outputs": [],
   "source": [
    "summary['per_day_of_week_summaries']"
   ]
  },
  {
   "cell_type": "code",
   "execution_count": null,
   "metadata": {
    "collapsed": false
   },
   "outputs": [],
   "source": [
    "summary['per_vehicle_summaries']"
   ]
  },
  {
   "cell_type": "code",
   "execution_count": null,
   "metadata": {
    "collapsed": false
   },
   "outputs": [],
   "source": [
    "summary['vehicles']"
   ]
  },
  {
   "cell_type": "code",
   "execution_count": null,
   "metadata": {
    "collapsed": true
   },
   "outputs": [],
   "source": []
  },
  {
   "cell_type": "code",
   "execution_count": null,
   "metadata": {
    "collapsed": true
   },
   "outputs": [],
   "source": []
  },
  {
   "cell_type": "code",
   "execution_count": null,
   "metadata": {
    "collapsed": true
   },
   "outputs": [],
   "source": []
  },
  {
   "cell_type": "code",
   "execution_count": null,
   "metadata": {
    "collapsed": true
   },
   "outputs": [],
   "source": []
  },
  {
   "cell_type": "code",
   "execution_count": null,
   "metadata": {
    "collapsed": true
   },
   "outputs": [],
   "source": []
  },
  {
   "cell_type": "code",
   "execution_count": null,
   "metadata": {
    "collapsed": true
   },
   "outputs": [],
   "source": []
  }
 ],
 "metadata": {
  "kernelspec": {
   "display_name": "Python 2",
   "language": "python",
   "name": "python2"
  },
  "language_info": {
   "codemirror_mode": {
    "name": "ipython",
    "version": 2
   },
   "file_extension": ".py",
   "mimetype": "text/x-python",
   "name": "python",
   "nbconvert_exporter": "python",
   "pygments_lexer": "ipython2",
   "version": "2.7.10"
  }
 },
 "nbformat": 4,
 "nbformat_minor": 0
}
