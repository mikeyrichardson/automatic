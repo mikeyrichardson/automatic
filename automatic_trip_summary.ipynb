{
 "cells": [
  {
   "cell_type": "code",
   "execution_count": 1,
   "metadata": {
    "collapsed": false
   },
   "outputs": [],
   "source": [
    "from __future__ import division\n",
    "import pandas as pd\n",
    "import json\n",
    "import requests\n",
    "import datetime\n",
    "import dateutil\n",
    "import matplotlib.pyplot as plt\n",
    "% matplotlib inline\n",
    "kph_to_mph_conversion_factor = 0.621371\n",
    "liters_to_gallons_conversion_factor = 0.264172"
   ]
  },
  {
   "cell_type": "code",
   "execution_count": 2,
   "metadata": {
    "collapsed": false
   },
   "outputs": [],
   "source": [
    "def get_json_data(url, auth_token, max_results=None, **kwargs):\n",
    "    \"\"\"Fetch and parse json data from a url\n",
    "    \n",
    "    This function makes an API call to `url` using the authentication\n",
    "    token `auth_token`. A maximum number of results can be specified.\n",
    "    If `max_results` is not specified, all results will be fetched.\n",
    "    The json responses are parsed and returned as a dict.\n",
    "    \n",
    "    Args:\n",
    "        url (str): A url that implements the automatic list API as described at\n",
    "                   https://developer.automatic.com/api-reference/#rest-api\n",
    "        auth_token (str): An oauth authentication token\n",
    "        max_results (int): A maximum amount of results\n",
    "        kwargs: Remaining keyword arguments are used as parameters\n",
    "                in the API request\n",
    "    \n",
    "    Returns:\n",
    "        dict: Contains the parsed json results of the API call(s)\n",
    "    \"\"\"\n",
    "    max_results_per_request = 250\n",
    "    if max_results:\n",
    "        num_requests_needed = max_results // max_results_per_request + 1\n",
    "        results_per_request = max_results // num_requests_needed\n",
    "        if max_results % num_requests_needed != 0:\n",
    "            results_per_request += 1\n",
    "        kwargs['limit'] = results_per_request\n",
    "    elif 'limit' not in kwargs:\n",
    "        kwargs['limit'] = max_results_per_request\n",
    "                \n",
    "    response_json = get_one_json_page(url, auth_token, **kwargs)\n",
    "    next_page_url = response_json['_metadata']['next']\n",
    "    results = response_json['results']\n",
    "    \n",
    "    if max_results:\n",
    "        return results\n",
    "    \n",
    "    while next_page_url is not None:\n",
    "        response_json = get_one_json_page(next_page_url, auth_token, **kwargs)\n",
    "        next_page_url = response_json['_metadata']['next']\n",
    "        results.extend(response_json['results'])\n",
    "        if max_results and len(results) > max_results:\n",
    "            break\n",
    "    \n",
    "    if max_results:\n",
    "        results = results[:max_results]\n",
    "    return results\n",
    "\n",
    "def get_one_json_page(url, auth_token, **kwargs):\n",
    "    headers = {'Authorization': 'Bearer {}'.format(auth_token)}\n",
    "    response = requests.get(url, headers=headers, params=kwargs)\n",
    "    response.raise_for_status()\n",
    "    return response.json()"
   ]
  },
  {
   "cell_type": "code",
   "execution_count": 3,
   "metadata": {
    "collapsed": false
   },
   "outputs": [],
   "source": [
    "def get_summary(auth_token, start_date=None, end_date=None):\n",
    "    \"\"\"Get a summary of all the trips associated with an authentication token\n",
    "    \n",
    "    Args:\n",
    "        auth_token (str): An oauth authentication token\n",
    "        start_date (datetime): Only trips started on or after `start_date`\n",
    "                               will be included in the summary\n",
    "        end_date (datetime): Only trips started on or before `end_date`\n",
    "                             will be included in the summary\n",
    "        \n",
    "    Returns:\n",
    "        dict: Contains an overall summary, a per vehicle summary, and a per weekday\n",
    "              summary of the trips associated with `auth_token` within the specified range\n",
    "    \"\"\"\n",
    "    range_params = {}\n",
    "    if start_date:\n",
    "        seconds_start = (start_date - datetime.datetime(1970,1,1)).total_seconds()\n",
    "        range_params['started_at__gte'] = int(seconds_start)\n",
    "    if end_date:\n",
    "        seconds_end = (end_date - datetime.datetime(1970,1,1)).total_seconds()\n",
    "        range_params['started_at__lte'] = int(seconds_end)\n",
    "    trip_url = 'https://api.automatic.com/trip/'\n",
    "    json_trip_data = get_json_data(trip_url, auth_token, **range_params)\n",
    "    trip_df = pd.DataFrame(json_trip_data)\n",
    "    vehicle_url = 'https://api.automatic.com/vehicle'\n",
    "    json_vehicle_data = get_json_data(vehicle_url, auth_token)\n",
    "    vehicle_df = pd.DataFrame(json_vehicle_data)\n",
    "    summary = {}\n",
    "    summary['overall_summary'] = get_trip_summary(trip_df)\n",
    "    summary.update(get_per_vehicle_summary(trip_df, vehicle_df))\n",
    "    summary.update(get_per_day_of_week_summary(trip_df))\n",
    "    summary.update(get_per_tag_summary(trip_df))\n",
    "    return summary"
   ]
  },
  {
   "cell_type": "code",
   "execution_count": 4,
   "metadata": {
    "collapsed": true
   },
   "outputs": [],
   "source": [
    "def get_per_vehicle_summary(trip_df, vehicle_df):\n",
    "    \"\"\"Generate a per_vehicle summary from the trip entries in the dataframe\n",
    "    \n",
    "    Args:\n",
    "        trip_df (pandas.DataFrame): A data frame containing information for \n",
    "                                    different trips on each row. Each row must contain\n",
    "                                    the fields from automatic's trip object as described\n",
    "                                    at https://developer.automatic.com/api-reference/#api-objects\n",
    "        vehicle_df (pandas.DataFrame): A data frame containing information for \n",
    "                                       different vehicles on each row. Each row must contain\n",
    "                                       the fields from automatic's vehicle object as described\n",
    "                                       at https://developer.automatic.com/api-reference/#api-objects\n",
    "                                    \n",
    "    Returns:\n",
    "        dict: Contains a per vehicle summary of the trips in trip_df along with\n",
    "              information about the vehicle if it is available in `vehicle_df`\n",
    "    \"\"\"\n",
    "    \n",
    "    if len(trip_df) == 0:\n",
    "        return {}\n",
    "    \n",
    "    summary = {}    \n",
    "    summary['vehicles'] = {}     \n",
    "    summary['per_vehicle_summaries'] = {}\n",
    "    for vehicle_url, df in trip_df.groupby('vehicle'):\n",
    "        summary['per_vehicle_summaries'][vehicle_url] = get_trip_summary(df)\n",
    "        if vehicle_url not in summary['vehicles']:\n",
    "            summary['vehicles'][vehicle_url] = {}\n",
    "    \n",
    "    # include information for known vehicles\n",
    "    if len(vehicle_df) != 0:\n",
    "        vehicle_df = vehicle_df[['url', 'make', 'model', 'submodel', 'year']]\n",
    "        vehicles = vehicle_df.set_index('url').transpose().to_dict()\n",
    "        for url in vehicles:\n",
    "            if url in summary['vehicles']:\n",
    "                summary['vehicles'][url] = vehicles[url]\n",
    "            \n",
    "    return summary"
   ]
  },
  {
   "cell_type": "code",
   "execution_count": 5,
   "metadata": {
    "collapsed": true
   },
   "outputs": [],
   "source": [
    "def get_per_day_of_week_summary(trip_df):\n",
    "    \"\"\"Generate a per_day_of_week summary from the trip entries in the dataframe\n",
    "    \n",
    "    Args:\n",
    "        trip_df (pandas.DataFrame): A data frame containing information for \n",
    "                                    different trips on each row. Each row must contain\n",
    "                                    the fields from automatic's trip object as described\n",
    "                                    at https://developer.automatic.com/api-reference/#trip\n",
    "                                    \n",
    "    Returns:\n",
    "        dict: Contains a per day of week summary of the trips in trip_df\n",
    "    \"\"\"\n",
    "    \n",
    "    if len(trip_df) == 0:\n",
    "        return {}\n",
    "    per_day_of_week_summaries = {}\n",
    "    days_of_week = trip_df.started_at.apply(extract_day_of_week)\n",
    "    for day_of_week, df in trip_df.groupby(days_of_week):\n",
    "        per_day_of_week_summaries[day_of_week] = get_trip_summary(df)\n",
    "    summary = {}\n",
    "    summary['per_day_of_week_summaries'] = per_day_of_week_summaries\n",
    "    return summary\n",
    "\n",
    "def extract_day_of_week(date_string):\n",
    "    return dateutil.parser.parse(date_string).strftime('%A')"
   ]
  },
  {
   "cell_type": "code",
   "execution_count": 6,
   "metadata": {
    "collapsed": true
   },
   "outputs": [],
   "source": [
    "def get_per_tag_summary(trip_df):\n",
    "    \"\"\"Generate a per tag summary from the trip entries in the dataframe\n",
    "    \n",
    "    Args:\n",
    "        trip_df (pandas.DataFrame): A data frame containing information for \n",
    "                                    different trips on each row. Each row must contain\n",
    "                                    the fields from automatic's trip object as described\n",
    "                                    at https://developer.automatic.com/api-reference/#trip\n",
    "                                    \n",
    "    Returns:\n",
    "        dict: Contains a per tag summary of the trips in trip_df\n",
    "    \"\"\"\n",
    "    \n",
    "    if len(trip_df) == 0:\n",
    "        return {}\n",
    "    per_tag_summaries = {}\n",
    "    tags = set()\n",
    "    for tag_list in trip_df.tags:\n",
    "        for tag in tag_list:\n",
    "            tags.add(tag)\n",
    "    for tag in tags:\n",
    "        per_tag_summaries[tag] = get_trip_summary(trip_df[[tag in tag_list for tag_list in trip_df.tags]])\n",
    "    summary = {}\n",
    "    summary['per_tag_summaries'] = per_tag_summaries\n",
    "    return summary"
   ]
  },
  {
   "cell_type": "code",
   "execution_count": 7,
   "metadata": {
    "collapsed": true
   },
   "outputs": [],
   "source": [
    "def get_trip_summary(trip_df):\n",
    "    \"\"\"Generate a trip summary from the trip entries in the dataframe\n",
    "    \n",
    "    Args:\n",
    "        trip_df (pandas.DataFrame): A data frame containing information for \n",
    "                                    different trips on each row. Each row must contain\n",
    "                                    the fields from automatic's trip object as described\n",
    "                                    at https://developer.automatic.com/api-reference/#api-objects\n",
    "                                    \n",
    "    Returns:\n",
    "        dict: Contains an overall summary and a per vehicle summary of the\n",
    "              trips in trip_df\n",
    "    \"\"\"\n",
    "    \n",
    "    if len(trip_df) == 0:\n",
    "        return {}\n",
    "    summary = {}\n",
    "    summary_functions = [get_basic_trip_summary,\n",
    "                         get_highway_speeding_fraction_summary,\n",
    "                         get_vehicle_event_summary]\n",
    "    for summary_function in summary_functions:\n",
    "        summary.update(summary_function(trip_df))\n",
    "    return summary"
   ]
  },
  {
   "cell_type": "code",
   "execution_count": 8,
   "metadata": {
    "collapsed": true
   },
   "outputs": [],
   "source": [
    "def get_basic_trip_summary(trip_df):\n",
    "    \"\"\"Generate a basic summary from the trip entries in the dataframe\n",
    "    \n",
    "    Args:\n",
    "        trip_df (pandas.DataFrame): A data frame containing information for \n",
    "                                    different trips on each row. Each row must contain\n",
    "                                    the fields from automatic's trip object as described\n",
    "                                    at https://developer.automatic.com/api-reference/#api-objects\n",
    "                                    \n",
    "    Returns:\n",
    "        dict: Contains a summary of the trip entries in the `trip_df` dataframe.\n",
    "    \"\"\"\n",
    "    \n",
    "    if len(trip_df) == 0:\n",
    "        return {}\n",
    "    summary = {}\n",
    "    summary['total_num_trips'] = len(trip_df)\n",
    "    summary['total_duration_mins'] = trip_df.duration_s.sum() / 60\n",
    "    summary['avg_duration_per_trip_mins'] = trip_df.duration_s.mean() / 60\n",
    "    distance_miles = trip_df.distance_m / 1000 * kph_to_mph_conversion_factor\n",
    "    summary['total_miles'] = distance_miles.sum()\n",
    "    summary['avg_miles_per_trip'] = distance_miles.mean()\n",
    "    city_miles = distance_miles * trip_df.city_fraction\n",
    "    summary['total_city_miles'] = city_miles.sum()\n",
    "    summary['avg_city_miles_per_trip'] = city_miles.mean()\n",
    "    highway_miles = distance_miles * trip_df.highway_fraction\n",
    "    summary['total_highway_miles'] = highway_miles.sum()\n",
    "    summary['avg_highway_miles_per_trip'] = highway_miles.mean()\n",
    "    trip_gallons = trip_df.fuel_volume_l * liters_to_gallons_conversion_factor\n",
    "    summary['total_gallons'] = trip_gallons.sum()\n",
    "    summary['avg_gallons_per_trip'] = trip_gallons.mean()\n",
    "    summary['avg_mpg_per_trip'] = summary['total_miles'] / summary['total_gallons']\n",
    "    summary['total_gas_cost'] = trip_df.fuel_cost_usd.sum()\n",
    "    summary['avg_gas_cost_per_trip'] = trip_df.fuel_cost_usd.mean()\n",
    "    \n",
    "    return summary"
   ]
  },
  {
   "cell_type": "code",
   "execution_count": 9,
   "metadata": {
    "collapsed": true
   },
   "outputs": [],
   "source": [
    "def get_highway_speeding_fraction_summary(trip_df):\n",
    "    \"\"\"Generate a speeding fraction summary from the trip entries in df\n",
    "    \n",
    "    Args:\n",
    "        trip_df (pandas.DataFrame): A data frame containing information for \n",
    "                                    different trips on each row. Each row must contain\n",
    "                                    the fields from automatic's trip object as described\n",
    "                                    at https://developer.automatic.com/api-reference/#api-objects\n",
    "                                    \n",
    "    Returns:\n",
    "        dict: Contains a summary of the fractions of time spent over the speeds\n",
    "              of 70, 75, and 80 mph or an empty dict if no highway time\n",
    "              during the trips\n",
    "    \"\"\"\n",
    "    \n",
    "    if len(trip_df) == 0:\n",
    "        return {}\n",
    "    summary = {}\n",
    "    highway_duration = (trip_df.duration_s * trip_df.highway_fraction).sum()\n",
    "    if highway_duration == 0:\n",
    "        return summary\n",
    "    summary['fraction_highway_time_over_70'] = (trip_df.duration_over_70_s.sum() / \n",
    "                                                highway_duration)\n",
    "    summary['fraction_highway_time_over_75'] = (trip_df.duration_over_75_s.sum() / \n",
    "                                                highway_duration)\n",
    "    summary['fraction_highway_time_over_80'] = (trip_df.duration_over_80_s.sum() / \n",
    "                                                highway_duration)\n",
    "    return summary"
   ]
  },
  {
   "cell_type": "code",
   "execution_count": 10,
   "metadata": {
    "collapsed": true
   },
   "outputs": [],
   "source": [
    "def get_vehicle_event_summary(trip_df):\n",
    "    \"\"\"Generate a summary of the events from the trip entries in df\n",
    "    \n",
    "    Args:\n",
    "        trip_df (pandas.DataFrame): A data frame containing information for \n",
    "                                    different trips on each row. Each row must contain\n",
    "                                    the fields from automatic's trip object as described\n",
    "                                    at https://developer.automatic.com/api-reference/#api-objects\n",
    "                                    \n",
    "    Returns:\n",
    "        dict: Contains a summary of three types of vehicle events:\n",
    "              hard brakes, hard accelerations, and speeding. If there are\n",
    "              no events, the dict will be empty\n",
    "    \"\"\"\n",
    "    \n",
    "    if len(trip_df) == 0:\n",
    "        return {}\n",
    "    max_speed = 0\n",
    "    sum_speed_duration_product = 0\n",
    "    sum_speeding_duration = 0\n",
    "    sum_gforce_brake = 0\n",
    "    count_gforce_brake = 0\n",
    "    max_gforce_brake = 0\n",
    "    sum_gforce_accel = 0\n",
    "    count_gforce_accel = 0\n",
    "    max_gforce_accel = 0\n",
    "    summary = {}\n",
    "    for vehicle_event_list in trip_df.vehicle_events:\n",
    "        for event in vehicle_event_list:\n",
    "            if event['type'] == 'hard_brake':\n",
    "                if event['g_force'] > max_gforce_brake:\n",
    "                    max_gforce_brake = event['g_force']\n",
    "                sum_gforce_brake += event['g_force']\n",
    "                count_gforce_brake += 1\n",
    "            elif event['type'] == 'hard_accel':\n",
    "                if event['g_force'] > max_gforce_accel:\n",
    "                    max_gforce_accel = event['g_force']\n",
    "                sum_gforce_accel += event['g_force']\n",
    "                count_gforce_accel += 1               \n",
    "            elif event['type'] == 'speeding':\n",
    "                event_start = dateutil.parser.parse(event['started_at'])\n",
    "                event_end = dateutil.parser.parse(event['ended_at'])\n",
    "                duration = (event_end - event_start).total_seconds()\n",
    "                if event['velocity_kph'] > max_speed:\n",
    "                    max_speed = event['velocity_kph']\n",
    "                sum_speed_duration_product += event['velocity_kph'] * duration\n",
    "                sum_speeding_duration += duration\n",
    "    if sum_speeding_duration > 0:\n",
    "        summary['max_speed_while_speeding_mph'] = max_speed * kph_to_mph_conversion_factor\n",
    "        summary['avg_speed_while_speeding_mph'] = (sum_speed_duration_product / \n",
    "                                                   sum_speeding_duration *\n",
    "                                                   kph_to_mph_conversion_factor)\n",
    "    if count_gforce_brake > 0:\n",
    "        summary['max_gforce_during_hard_brakes'] = max_gforce_brake\n",
    "        summary['avg_gforce_during_hard_brakes'] = sum_gforce_brake / count_gforce_brake\n",
    "        \n",
    "    if count_gforce_accel > 0:\n",
    "        summary['max_gforce_during_hard_accels'] = max_gforce_accel\n",
    "        summary['avg_gforce_during_hard_accels'] = sum_gforce_accel / count_gforce_accel\n",
    "    return summary"
   ]
  },
  {
   "cell_type": "code",
   "execution_count": 11,
   "metadata": {
    "collapsed": false
   },
   "outputs": [],
   "source": [
    "auth_token = '65122dde5ab2841a7e11e11ed30dde88ffd3b4c0'\n",
    "summary = get_summary(auth_token)"
   ]
  },
  {
   "cell_type": "code",
   "execution_count": 12,
   "metadata": {
    "collapsed": true
   },
   "outputs": [],
   "source": [
    "import os\n",
    "from jinja2 import Environment, FileSystemLoader\n",
    "from IPython.core.display import HTML"
   ]
  },
  {
   "cell_type": "code",
   "execution_count": 13,
   "metadata": {
    "collapsed": false
   },
   "outputs": [],
   "source": [
    "PATH = os.getcwd()\n",
    "TEMPLATE_ENVIRONMENT = Environment(\n",
    "    autoescape=False,\n",
    "    loader=FileSystemLoader(os.path.join(PATH, 'templates')),\n",
    "    trim_blocks=False)\n",
    " \n",
    " \n",
    "def render_template(template_filename, context):\n",
    "    return TEMPLATE_ENVIRONMENT.get_template(template_filename).render(context)"
   ]
  },
  {
   "cell_type": "code",
   "execution_count": 14,
   "metadata": {
    "collapsed": false
   },
   "outputs": [
    {
     "data": {
      "text/html": [
       "<!DOCTYPE html>\n",
       "<html>\n",
       "  <head>\n",
       "    <title>Display Summaries</title>\n",
       "\n",
       "    <meta name=\"viewport\" content=\"width=device-width, initial-scale=1.0\">\n",
       "\n",
       "    <link rel=\"stylesheet\" href=\"http://maxcdn.bootstrapcdn.com/bootstrap/3.3.5/css/bootstrap.min.css\">\n",
       "    <script src=\"https://ajax.googleapis.com/ajax/libs/jquery/1.11.3/jquery.min.js\"></script>\n",
       "    <script src=\"http://maxcdn.bootstrapcdn.com/bootstrap/3.3.5/js/bootstrap.min.js\"></script>\n",
       "  </head>\n",
       "  <body>\n",
       "  <div class=\"container\">\n",
       "    <div class=\"scrollable-table\">\n",
       "      \n",
       "      \n",
       "      \n",
       "      <table class=\"table table-striped\">\n",
       "        <thead>\n",
       "          <tr>\n",
       "            <th class=\"col-xs-1\">TAG SUMMARY</th>\n",
       "            <th class=\"col-xs-1\"><div><span>Overall</span></div></th>\n",
       "            \n",
       "                <th class=\"col-xs-1\"><div><span>business</span></div></th>\n",
       "            \n",
       "          </tr>\n",
       "        </thead>\n",
       "        <tbody>\n",
       "          \n",
       "          <tr>\n",
       "            <th class=\"row-header\">avg_duration_per_trip_mins</th>\n",
       "            <td>26.2</td>\n",
       "            \n",
       "                <td>49.9</td>\n",
       "            \n",
       "          </tr>\n",
       "          \n",
       "          <tr>\n",
       "            <th class=\"row-header\">avg_speed_while_speeding_mph</th>\n",
       "            <td>70.4</td>\n",
       "            \n",
       "                <td>70.0</td>\n",
       "            \n",
       "          </tr>\n",
       "          \n",
       "          <tr>\n",
       "            <th class=\"row-header\">avg_mpg_per_trip</th>\n",
       "            <td>30.0</td>\n",
       "            \n",
       "                <td>34.5</td>\n",
       "            \n",
       "          </tr>\n",
       "          \n",
       "          <tr>\n",
       "            <th class=\"row-header\">fraction_highway_time_over_70</th>\n",
       "            <td>0.2</td>\n",
       "            \n",
       "                <td>0.4</td>\n",
       "            \n",
       "          </tr>\n",
       "          \n",
       "          <tr>\n",
       "            <th class=\"row-header\">max_gforce_during_hard_accels</th>\n",
       "            <td>0.5</td>\n",
       "            \n",
       "                <td>0.3</td>\n",
       "            \n",
       "          </tr>\n",
       "          \n",
       "          <tr>\n",
       "            <th class=\"row-header\">fraction_highway_time_over_75</th>\n",
       "            <td>0.0</td>\n",
       "            \n",
       "                <td>0.0</td>\n",
       "            \n",
       "          </tr>\n",
       "          \n",
       "          <tr>\n",
       "            <th class=\"row-header\">total_highway_miles</th>\n",
       "            <td>1624.2</td>\n",
       "            \n",
       "                <td>417.1</td>\n",
       "            \n",
       "          </tr>\n",
       "          \n",
       "          <tr>\n",
       "            <th class=\"row-header\">total_city_miles</th>\n",
       "            <td>191.1</td>\n",
       "            \n",
       "                <td>18.2</td>\n",
       "            \n",
       "          </tr>\n",
       "          \n",
       "          <tr>\n",
       "            <th class=\"row-header\">avg_gforce_during_hard_accels</th>\n",
       "            <td>0.3</td>\n",
       "            \n",
       "                <td>0.3</td>\n",
       "            \n",
       "          </tr>\n",
       "          \n",
       "          <tr>\n",
       "            <th class=\"row-header\">avg_highway_miles_per_trip</th>\n",
       "            <td>15.8</td>\n",
       "            \n",
       "                <td>37.9</td>\n",
       "            \n",
       "          </tr>\n",
       "          \n",
       "          <tr>\n",
       "            <th class=\"row-header\">avg_miles_per_trip</th>\n",
       "            <td>18.8</td>\n",
       "            \n",
       "                <td>46.3</td>\n",
       "            \n",
       "          </tr>\n",
       "          \n",
       "          <tr>\n",
       "            <th class=\"row-header\">max_speed_while_speeding_mph</th>\n",
       "            <td>80.0</td>\n",
       "            \n",
       "                <td>75.0</td>\n",
       "            \n",
       "          </tr>\n",
       "          \n",
       "          <tr>\n",
       "            <th class=\"row-header\">avg_city_miles_per_trip</th>\n",
       "            <td>1.9</td>\n",
       "            \n",
       "                <td>1.7</td>\n",
       "            \n",
       "          </tr>\n",
       "          \n",
       "          <tr>\n",
       "            <th class=\"row-header\">fraction_highway_time_over_80</th>\n",
       "            <td>0.0</td>\n",
       "            \n",
       "                <td>0.0</td>\n",
       "            \n",
       "          </tr>\n",
       "          \n",
       "          <tr>\n",
       "            <th class=\"row-header\">avg_gas_cost_per_trip</th>\n",
       "            <td>2.3</td>\n",
       "            \n",
       "                <td>4.7</td>\n",
       "            \n",
       "          </tr>\n",
       "          \n",
       "          <tr>\n",
       "            <th class=\"row-header\">avg_gforce_during_hard_brakes</th>\n",
       "            <td>0.4</td>\n",
       "            \n",
       "                <td>0.3</td>\n",
       "            \n",
       "          </tr>\n",
       "          \n",
       "          <tr>\n",
       "            <th class=\"row-header\">total_duration_mins</th>\n",
       "            <td>2703.1</td>\n",
       "            \n",
       "                <td>549.2</td>\n",
       "            \n",
       "          </tr>\n",
       "          \n",
       "          <tr>\n",
       "            <th class=\"row-header\">total_num_trips</th>\n",
       "            <td>103.0</td>\n",
       "            \n",
       "                <td>11.0</td>\n",
       "            \n",
       "          </tr>\n",
       "          \n",
       "          <tr>\n",
       "            <th class=\"row-header\">total_gas_cost</th>\n",
       "            <td>233.6</td>\n",
       "            \n",
       "                <td>52.1</td>\n",
       "            \n",
       "          </tr>\n",
       "          \n",
       "          <tr>\n",
       "            <th class=\"row-header\">avg_gallons_per_trip</th>\n",
       "            <td>0.6</td>\n",
       "            \n",
       "                <td>1.3</td>\n",
       "            \n",
       "          </tr>\n",
       "          \n",
       "          <tr>\n",
       "            <th class=\"row-header\">total_gallons</th>\n",
       "            <td>64.7</td>\n",
       "            \n",
       "                <td>14.8</td>\n",
       "            \n",
       "          </tr>\n",
       "          \n",
       "          <tr>\n",
       "            <th class=\"row-header\">total_miles</th>\n",
       "            <td>1938.4</td>\n",
       "            \n",
       "                <td>509.6</td>\n",
       "            \n",
       "          </tr>\n",
       "          \n",
       "          <tr>\n",
       "            <th class=\"row-header\">max_gforce_during_hard_brakes</th>\n",
       "            <td>0.7</td>\n",
       "            \n",
       "                <td>0.3</td>\n",
       "            \n",
       "          </tr>\n",
       "          \n",
       "        </tbody>\n",
       "      </table>\n",
       "      \n",
       "      \n",
       "      <table class=\"table table-striped\">\n",
       "        <thead>\n",
       "          <tr>\n",
       "            <th>DAY OF THE WEEK SUMMARY</th>\n",
       "            <th class=\"col-xs-1\"><div><span>Overall</span></div></th>\n",
       "            \n",
       "                <th class=\"col-xs-1\"><div><span>Sunday</span></div></th>\n",
       "            \n",
       "                <th class=\"col-xs-1\"><div><span>Monday</span></div></th>\n",
       "            \n",
       "                <th class=\"col-xs-1\"><div><span>Tuesday</span></div></th>\n",
       "            \n",
       "                <th class=\"col-xs-1\"><div><span>Wednesday</span></div></th>\n",
       "            \n",
       "                <th class=\"col-xs-1\"><div><span>Thursday</span></div></th>\n",
       "            \n",
       "                <th class=\"col-xs-1\"><div><span>Friday</span></div></th>\n",
       "            \n",
       "                <th class=\"col-xs-1\"><div><span>Saturday</span></div></th>\n",
       "            \n",
       "          </tr>\n",
       "        </thead>\n",
       "        <tbody>\n",
       "          \n",
       "          <tr>\n",
       "            <th class=\"row-header\">avg_duration_per_trip_mins</th>\n",
       "            <td>26.2</td>\n",
       "            \n",
       "                <td>16.9</td>\n",
       "            \n",
       "                <td>41.2</td>\n",
       "            \n",
       "                <td>7.2</td>\n",
       "            \n",
       "                <td>1.9</td>\n",
       "            \n",
       "                <td>22.3</td>\n",
       "            \n",
       "                <td>18.4</td>\n",
       "            \n",
       "                <td>44.1</td>\n",
       "            \n",
       "          </tr>\n",
       "          \n",
       "          <tr>\n",
       "            <th class=\"row-header\">avg_speed_while_speeding_mph</th>\n",
       "            <td>70.4</td>\n",
       "            \n",
       "                <td>71.9</td>\n",
       "            \n",
       "                <td>70.0</td>\n",
       "            \n",
       "                <td>0.0</td>\n",
       "            \n",
       "                <td>0.0</td>\n",
       "            \n",
       "                <td>72.0</td>\n",
       "            \n",
       "                <td>70.0</td>\n",
       "            \n",
       "                <td>70.3</td>\n",
       "            \n",
       "          </tr>\n",
       "          \n",
       "          <tr>\n",
       "            <th class=\"row-header\">avg_mpg_per_trip</th>\n",
       "            <td>30.0</td>\n",
       "            \n",
       "                <td>27.5</td>\n",
       "            \n",
       "                <td>33.6</td>\n",
       "            \n",
       "                <td>10.0</td>\n",
       "            \n",
       "                <td>4.3</td>\n",
       "            \n",
       "                <td>15.8</td>\n",
       "            \n",
       "                <td>32.0</td>\n",
       "            \n",
       "                <td>30.8</td>\n",
       "            \n",
       "          </tr>\n",
       "          \n",
       "          <tr>\n",
       "            <th class=\"row-header\">fraction_highway_time_over_70</th>\n",
       "            <td>0.2</td>\n",
       "            \n",
       "                <td>0.2</td>\n",
       "            \n",
       "                <td>0.3</td>\n",
       "            \n",
       "                <td>0.0</td>\n",
       "            \n",
       "                <td>0.0</td>\n",
       "            \n",
       "                <td>0.0</td>\n",
       "            \n",
       "                <td>0.1</td>\n",
       "            \n",
       "                <td>0.1</td>\n",
       "            \n",
       "          </tr>\n",
       "          \n",
       "          <tr>\n",
       "            <th class=\"row-header\">max_gforce_during_hard_accels</th>\n",
       "            <td>0.5</td>\n",
       "            \n",
       "                <td>0.4</td>\n",
       "            \n",
       "                <td>0.5</td>\n",
       "            \n",
       "                <td>0.4</td>\n",
       "            \n",
       "                <td>0.0</td>\n",
       "            \n",
       "                <td>0.3</td>\n",
       "            \n",
       "                <td>0.3</td>\n",
       "            \n",
       "                <td>0.4</td>\n",
       "            \n",
       "          </tr>\n",
       "          \n",
       "          <tr>\n",
       "            <th class=\"row-header\">fraction_highway_time_over_75</th>\n",
       "            <td>0.0</td>\n",
       "            \n",
       "                <td>0.1</td>\n",
       "            \n",
       "                <td>0.0</td>\n",
       "            \n",
       "                <td>0.0</td>\n",
       "            \n",
       "                <td>0.0</td>\n",
       "            \n",
       "                <td>0.0</td>\n",
       "            \n",
       "                <td>0.0</td>\n",
       "            \n",
       "                <td>0.0</td>\n",
       "            \n",
       "          </tr>\n",
       "          \n",
       "          <tr>\n",
       "            <th class=\"row-header\">total_highway_miles</th>\n",
       "            <td>1624.2</td>\n",
       "            \n",
       "                <td>234.0</td>\n",
       "            \n",
       "                <td>629.8</td>\n",
       "            \n",
       "                <td>0.0</td>\n",
       "            \n",
       "                <td>0.0</td>\n",
       "            \n",
       "                <td>19.3</td>\n",
       "            \n",
       "                <td>54.0</td>\n",
       "            \n",
       "                <td>687.2</td>\n",
       "            \n",
       "          </tr>\n",
       "          \n",
       "          <tr>\n",
       "            <th class=\"row-header\">total_city_miles</th>\n",
       "            <td>191.1</td>\n",
       "            \n",
       "                <td>80.8</td>\n",
       "            \n",
       "                <td>25.9</td>\n",
       "            \n",
       "                <td>11.8</td>\n",
       "            \n",
       "                <td>0.0</td>\n",
       "            \n",
       "                <td>28.8</td>\n",
       "            \n",
       "                <td>6.0</td>\n",
       "            \n",
       "                <td>37.8</td>\n",
       "            \n",
       "          </tr>\n",
       "          \n",
       "          <tr>\n",
       "            <th class=\"row-header\">avg_gforce_during_hard_accels</th>\n",
       "            <td>0.3</td>\n",
       "            \n",
       "                <td>0.3</td>\n",
       "            \n",
       "                <td>0.4</td>\n",
       "            \n",
       "                <td>0.4</td>\n",
       "            \n",
       "                <td>0.0</td>\n",
       "            \n",
       "                <td>0.3</td>\n",
       "            \n",
       "                <td>0.3</td>\n",
       "            \n",
       "                <td>0.4</td>\n",
       "            \n",
       "          </tr>\n",
       "          \n",
       "          <tr>\n",
       "            <th class=\"row-header\">avg_highway_miles_per_trip</th>\n",
       "            <td>15.8</td>\n",
       "            \n",
       "                <td>6.0</td>\n",
       "            \n",
       "                <td>33.1</td>\n",
       "            \n",
       "                <td>0.0</td>\n",
       "            \n",
       "                <td>0.0</td>\n",
       "            \n",
       "                <td>3.9</td>\n",
       "            \n",
       "                <td>10.8</td>\n",
       "            \n",
       "                <td>31.2</td>\n",
       "            \n",
       "          </tr>\n",
       "          \n",
       "          <tr>\n",
       "            <th class=\"row-header\">avg_miles_per_trip</th>\n",
       "            <td>18.8</td>\n",
       "            \n",
       "                <td>8.3</td>\n",
       "            \n",
       "                <td>37.1</td>\n",
       "            \n",
       "                <td>1.2</td>\n",
       "            \n",
       "                <td>0.2</td>\n",
       "            \n",
       "                <td>9.6</td>\n",
       "            \n",
       "                <td>12.0</td>\n",
       "            \n",
       "                <td>35.8</td>\n",
       "            \n",
       "          </tr>\n",
       "          \n",
       "          <tr>\n",
       "            <th class=\"row-header\">max_speed_while_speeding_mph</th>\n",
       "            <td>80.0</td>\n",
       "            \n",
       "                <td>80.0</td>\n",
       "            \n",
       "                <td>75.0</td>\n",
       "            \n",
       "                <td>0.0</td>\n",
       "            \n",
       "                <td>0.0</td>\n",
       "            \n",
       "                <td>80.0</td>\n",
       "            \n",
       "                <td>70.0</td>\n",
       "            \n",
       "                <td>80.0</td>\n",
       "            \n",
       "          </tr>\n",
       "          \n",
       "          <tr>\n",
       "            <th class=\"row-header\">avg_city_miles_per_trip</th>\n",
       "            <td>1.9</td>\n",
       "            \n",
       "                <td>2.1</td>\n",
       "            \n",
       "                <td>1.4</td>\n",
       "            \n",
       "                <td>1.0</td>\n",
       "            \n",
       "                <td>0.0</td>\n",
       "            \n",
       "                <td>5.8</td>\n",
       "            \n",
       "                <td>1.2</td>\n",
       "            \n",
       "                <td>1.7</td>\n",
       "            \n",
       "          </tr>\n",
       "          \n",
       "          <tr>\n",
       "            <th class=\"row-header\">fraction_highway_time_over_80</th>\n",
       "            <td>0.0</td>\n",
       "            \n",
       "                <td>0.0</td>\n",
       "            \n",
       "                <td>0.0</td>\n",
       "            \n",
       "                <td>0.0</td>\n",
       "            \n",
       "                <td>0.0</td>\n",
       "            \n",
       "                <td>0.0</td>\n",
       "            \n",
       "                <td>0.0</td>\n",
       "            \n",
       "                <td>0.0</td>\n",
       "            \n",
       "          </tr>\n",
       "          \n",
       "          <tr>\n",
       "            <th class=\"row-header\">avg_gas_cost_per_trip</th>\n",
       "            <td>2.3</td>\n",
       "            \n",
       "                <td>1.1</td>\n",
       "            \n",
       "                <td>3.9</td>\n",
       "            \n",
       "                <td>0.4</td>\n",
       "            \n",
       "                <td>0.1</td>\n",
       "            \n",
       "                <td>2.3</td>\n",
       "            \n",
       "                <td>1.4</td>\n",
       "            \n",
       "                <td>4.3</td>\n",
       "            \n",
       "          </tr>\n",
       "          \n",
       "          <tr>\n",
       "            <th class=\"row-header\">avg_gforce_during_hard_brakes</th>\n",
       "            <td>0.4</td>\n",
       "            \n",
       "                <td>0.4</td>\n",
       "            \n",
       "                <td>0.4</td>\n",
       "            \n",
       "                <td>0.0</td>\n",
       "            \n",
       "                <td>0.0</td>\n",
       "            \n",
       "                <td>0.6</td>\n",
       "            \n",
       "                <td>0.0</td>\n",
       "            \n",
       "                <td>0.4</td>\n",
       "            \n",
       "          </tr>\n",
       "          \n",
       "          <tr>\n",
       "            <th class=\"row-header\">total_duration_mins</th>\n",
       "            <td>2703.1</td>\n",
       "            \n",
       "                <td>658.0</td>\n",
       "            \n",
       "                <td>782.8</td>\n",
       "            \n",
       "                <td>86.1</td>\n",
       "            \n",
       "                <td>1.9</td>\n",
       "            \n",
       "                <td>111.5</td>\n",
       "            \n",
       "                <td>92.0</td>\n",
       "            \n",
       "                <td>970.8</td>\n",
       "            \n",
       "          </tr>\n",
       "          \n",
       "          <tr>\n",
       "            <th class=\"row-header\">total_num_trips</th>\n",
       "            <td>103.0</td>\n",
       "            \n",
       "                <td>39.0</td>\n",
       "            \n",
       "                <td>19.0</td>\n",
       "            \n",
       "                <td>12.0</td>\n",
       "            \n",
       "                <td>1.0</td>\n",
       "            \n",
       "                <td>5.0</td>\n",
       "            \n",
       "                <td>5.0</td>\n",
       "            \n",
       "                <td>22.0</td>\n",
       "            \n",
       "          </tr>\n",
       "          \n",
       "          <tr>\n",
       "            <th class=\"row-header\">total_gas_cost</th>\n",
       "            <td>233.6</td>\n",
       "            \n",
       "                <td>42.0</td>\n",
       "            \n",
       "                <td>74.0</td>\n",
       "            \n",
       "                <td>5.2</td>\n",
       "            \n",
       "                <td>0.1</td>\n",
       "            \n",
       "                <td>11.6</td>\n",
       "            \n",
       "                <td>6.9</td>\n",
       "            \n",
       "                <td>93.7</td>\n",
       "            \n",
       "          </tr>\n",
       "          \n",
       "          <tr>\n",
       "            <th class=\"row-header\">avg_gallons_per_trip</th>\n",
       "            <td>0.6</td>\n",
       "            \n",
       "                <td>0.3</td>\n",
       "            \n",
       "                <td>1.1</td>\n",
       "            \n",
       "                <td>0.1</td>\n",
       "            \n",
       "                <td>0.1</td>\n",
       "            \n",
       "                <td>0.6</td>\n",
       "            \n",
       "                <td>0.4</td>\n",
       "            \n",
       "                <td>1.2</td>\n",
       "            \n",
       "          </tr>\n",
       "          \n",
       "          <tr>\n",
       "            <th class=\"row-header\">total_gallons</th>\n",
       "            <td>64.7</td>\n",
       "            \n",
       "                <td>11.8</td>\n",
       "            \n",
       "                <td>21.0</td>\n",
       "            \n",
       "                <td>1.4</td>\n",
       "            \n",
       "                <td>0.1</td>\n",
       "            \n",
       "                <td>3.0</td>\n",
       "            \n",
       "                <td>1.9</td>\n",
       "            \n",
       "                <td>25.5</td>\n",
       "            \n",
       "          </tr>\n",
       "          \n",
       "          <tr>\n",
       "            <th class=\"row-header\">total_miles</th>\n",
       "            <td>1938.4</td>\n",
       "            \n",
       "                <td>324.1</td>\n",
       "            \n",
       "                <td>704.8</td>\n",
       "            \n",
       "                <td>14.0</td>\n",
       "            \n",
       "                <td>0.2</td>\n",
       "            \n",
       "                <td>48.1</td>\n",
       "            \n",
       "                <td>60.0</td>\n",
       "            \n",
       "                <td>787.2</td>\n",
       "            \n",
       "          </tr>\n",
       "          \n",
       "          <tr>\n",
       "            <th class=\"row-header\">max_gforce_during_hard_brakes</th>\n",
       "            <td>0.7</td>\n",
       "            \n",
       "                <td>0.5</td>\n",
       "            \n",
       "                <td>0.5</td>\n",
       "            \n",
       "                <td>0.0</td>\n",
       "            \n",
       "                <td>0.0</td>\n",
       "            \n",
       "                <td>0.7</td>\n",
       "            \n",
       "                <td>0.0</td>\n",
       "            \n",
       "                <td>0.6</td>\n",
       "            \n",
       "          </tr>\n",
       "          \n",
       "        </tbody>\n",
       "      </table>\n",
       "      \n",
       "      \n",
       "      <table class=\"table table-striped\">\n",
       "        <thead>\n",
       "          <tr>\n",
       "            <th>VEHICLE SUMMARY</th>\n",
       "            <th class=\"col-xs-1\"><div><span>Overall</span></div></th>\n",
       "            \n",
       "                <th class=\"col-xs-1\"><div><span>b150a3</span></div></th>\n",
       "            \n",
       "                <th class=\"col-xs-1\"><div><span>211586</span></div></th>\n",
       "            \n",
       "                <th class=\"col-xs-1\"><div><span>efd7e3</span></div></th>\n",
       "            \n",
       "                <th class=\"col-xs-1\"><div><span>b42478</span></div></th>\n",
       "            \n",
       "                <th class=\"col-xs-1\"><div><span>489d76</span></div></th>\n",
       "            \n",
       "                <th class=\"col-xs-1\"><div><span>88be75</span></div></th>\n",
       "            \n",
       "                <th class=\"col-xs-1\"><div><span>178da7</span></div></th>\n",
       "            \n",
       "          </tr>\n",
       "        </thead>\n",
       "        <tbody>\n",
       "          \n",
       "          <tr>\n",
       "            <th class=\"row-header\">avg_duration_per_trip_mins</th>\n",
       "            <td>26.2</td>\n",
       "            \n",
       "                <td>16.1</td>\n",
       "            \n",
       "                <td>10.5</td>\n",
       "            \n",
       "                <td>33.8</td>\n",
       "            \n",
       "                <td>69.0</td>\n",
       "            \n",
       "                <td>42.2</td>\n",
       "            \n",
       "                <td>19.1</td>\n",
       "            \n",
       "                <td>10.6</td>\n",
       "            \n",
       "          </tr>\n",
       "          \n",
       "          <tr>\n",
       "            <th class=\"row-header\">avg_speed_while_speeding_mph</th>\n",
       "            <td>70.4</td>\n",
       "            \n",
       "                <td>0.0</td>\n",
       "            \n",
       "                <td>70.0</td>\n",
       "            \n",
       "                <td>70.2</td>\n",
       "            \n",
       "                <td>70.0</td>\n",
       "            \n",
       "                <td>71.3</td>\n",
       "            \n",
       "                <td>79.8</td>\n",
       "            \n",
       "                <td>70.0</td>\n",
       "            \n",
       "          </tr>\n",
       "          \n",
       "          <tr>\n",
       "            <th class=\"row-header\">avg_mpg_per_trip</th>\n",
       "            <td>30.0</td>\n",
       "            \n",
       "                <td>32.5</td>\n",
       "            \n",
       "                <td>13.9</td>\n",
       "            \n",
       "                <td>30.4</td>\n",
       "            \n",
       "                <td>37.3</td>\n",
       "            \n",
       "                <td>31.4</td>\n",
       "            \n",
       "                <td>15.0</td>\n",
       "            \n",
       "                <td>17.3</td>\n",
       "            \n",
       "          </tr>\n",
       "          \n",
       "          <tr>\n",
       "            <th class=\"row-header\">fraction_highway_time_over_70</th>\n",
       "            <td>0.2</td>\n",
       "            \n",
       "                <td>0.0</td>\n",
       "            \n",
       "                <td>0.0</td>\n",
       "            \n",
       "                <td>0.0</td>\n",
       "            \n",
       "                <td>0.3</td>\n",
       "            \n",
       "                <td>0.2</td>\n",
       "            \n",
       "                <td>0.0</td>\n",
       "            \n",
       "                <td>0.0</td>\n",
       "            \n",
       "          </tr>\n",
       "          \n",
       "          <tr>\n",
       "            <th class=\"row-header\">max_gforce_during_hard_accels</th>\n",
       "            <td>0.5</td>\n",
       "            \n",
       "                <td>0.3</td>\n",
       "            \n",
       "                <td>0.4</td>\n",
       "            \n",
       "                <td>0.5</td>\n",
       "            \n",
       "                <td>0.3</td>\n",
       "            \n",
       "                <td>0.0</td>\n",
       "            \n",
       "                <td>0.0</td>\n",
       "            \n",
       "                <td>0.4</td>\n",
       "            \n",
       "          </tr>\n",
       "          \n",
       "          <tr>\n",
       "            <th class=\"row-header\">fraction_highway_time_over_75</th>\n",
       "            <td>0.0</td>\n",
       "            \n",
       "                <td>0.0</td>\n",
       "            \n",
       "                <td>0.0</td>\n",
       "            \n",
       "                <td>0.0</td>\n",
       "            \n",
       "                <td>0.0</td>\n",
       "            \n",
       "                <td>0.1</td>\n",
       "            \n",
       "                <td>0.0</td>\n",
       "            \n",
       "                <td>0.0</td>\n",
       "            \n",
       "          </tr>\n",
       "          \n",
       "          <tr>\n",
       "            <th class=\"row-header\">total_highway_miles</th>\n",
       "            <td>1624.2</td>\n",
       "            \n",
       "                <td>0.0</td>\n",
       "            \n",
       "                <td>41.4</td>\n",
       "            \n",
       "                <td>472.6</td>\n",
       "            \n",
       "                <td>654.1</td>\n",
       "            \n",
       "                <td>407.0</td>\n",
       "            \n",
       "                <td>0.0</td>\n",
       "            \n",
       "                <td>49.1</td>\n",
       "            \n",
       "          </tr>\n",
       "          \n",
       "          <tr>\n",
       "            <th class=\"row-header\">total_city_miles</th>\n",
       "            <td>191.1</td>\n",
       "            \n",
       "                <td>16.9</td>\n",
       "            \n",
       "                <td>30.6</td>\n",
       "            \n",
       "                <td>42.3</td>\n",
       "            \n",
       "                <td>23.0</td>\n",
       "            \n",
       "                <td>32.2</td>\n",
       "            \n",
       "                <td>20.7</td>\n",
       "            \n",
       "                <td>25.4</td>\n",
       "            \n",
       "          </tr>\n",
       "          \n",
       "          <tr>\n",
       "            <th class=\"row-header\">avg_gforce_during_hard_accels</th>\n",
       "            <td>0.3</td>\n",
       "            \n",
       "                <td>0.3</td>\n",
       "            \n",
       "                <td>0.3</td>\n",
       "            \n",
       "                <td>0.3</td>\n",
       "            \n",
       "                <td>0.3</td>\n",
       "            \n",
       "                <td>0.0</td>\n",
       "            \n",
       "                <td>0.0</td>\n",
       "            \n",
       "                <td>0.3</td>\n",
       "            \n",
       "          </tr>\n",
       "          \n",
       "          <tr>\n",
       "            <th class=\"row-header\">avg_highway_miles_per_trip</th>\n",
       "            <td>15.8</td>\n",
       "            \n",
       "                <td>0.0</td>\n",
       "            \n",
       "                <td>1.3</td>\n",
       "            \n",
       "                <td>21.5</td>\n",
       "            \n",
       "                <td>59.5</td>\n",
       "            \n",
       "                <td>31.3</td>\n",
       "            \n",
       "                <td>0.0</td>\n",
       "            \n",
       "                <td>2.7</td>\n",
       "            \n",
       "          </tr>\n",
       "          \n",
       "          <tr>\n",
       "            <th class=\"row-header\">avg_miles_per_trip</th>\n",
       "            <td>18.8</td>\n",
       "            \n",
       "                <td>3.6</td>\n",
       "            \n",
       "                <td>2.9</td>\n",
       "            \n",
       "                <td>24.6</td>\n",
       "            \n",
       "                <td>68.3</td>\n",
       "            \n",
       "                <td>33.8</td>\n",
       "            \n",
       "                <td>10.3</td>\n",
       "            \n",
       "                <td>4.1</td>\n",
       "            \n",
       "          </tr>\n",
       "          \n",
       "          <tr>\n",
       "            <th class=\"row-header\">max_speed_while_speeding_mph</th>\n",
       "            <td>80.0</td>\n",
       "            \n",
       "                <td>0.0</td>\n",
       "            \n",
       "                <td>70.0</td>\n",
       "            \n",
       "                <td>75.0</td>\n",
       "            \n",
       "                <td>75.0</td>\n",
       "            \n",
       "                <td>80.0</td>\n",
       "            \n",
       "                <td>80.0</td>\n",
       "            \n",
       "                <td>70.0</td>\n",
       "            \n",
       "          </tr>\n",
       "          \n",
       "          <tr>\n",
       "            <th class=\"row-header\">avg_city_miles_per_trip</th>\n",
       "            <td>1.9</td>\n",
       "            \n",
       "                <td>2.8</td>\n",
       "            \n",
       "                <td>1.0</td>\n",
       "            \n",
       "                <td>1.9</td>\n",
       "            \n",
       "                <td>2.1</td>\n",
       "            \n",
       "                <td>2.5</td>\n",
       "            \n",
       "                <td>10.3</td>\n",
       "            \n",
       "                <td>1.4</td>\n",
       "            \n",
       "          </tr>\n",
       "          \n",
       "          <tr>\n",
       "            <th class=\"row-header\">fraction_highway_time_over_80</th>\n",
       "            <td>0.0</td>\n",
       "            \n",
       "                <td>0.0</td>\n",
       "            \n",
       "                <td>0.0</td>\n",
       "            \n",
       "                <td>0.0</td>\n",
       "            \n",
       "                <td>0.0</td>\n",
       "            \n",
       "                <td>0.0</td>\n",
       "            \n",
       "                <td>0.0</td>\n",
       "            \n",
       "                <td>0.0</td>\n",
       "            \n",
       "          </tr>\n",
       "          \n",
       "          <tr>\n",
       "            <th class=\"row-header\">avg_gas_cost_per_trip</th>\n",
       "            <td>2.3</td>\n",
       "            \n",
       "                <td>0.4</td>\n",
       "            \n",
       "                <td>0.8</td>\n",
       "            \n",
       "                <td>3.0</td>\n",
       "            \n",
       "                <td>6.3</td>\n",
       "            \n",
       "                <td>3.9</td>\n",
       "            \n",
       "                <td>2.8</td>\n",
       "            \n",
       "                <td>0.8</td>\n",
       "            \n",
       "          </tr>\n",
       "          \n",
       "          <tr>\n",
       "            <th class=\"row-header\">avg_gforce_during_hard_brakes</th>\n",
       "            <td>0.4</td>\n",
       "            \n",
       "                <td>0.0</td>\n",
       "            \n",
       "                <td>0.0</td>\n",
       "            \n",
       "                <td>0.4</td>\n",
       "            \n",
       "                <td>0.3</td>\n",
       "            \n",
       "                <td>0.3</td>\n",
       "            \n",
       "                <td>0.6</td>\n",
       "            \n",
       "                <td>0.0</td>\n",
       "            \n",
       "          </tr>\n",
       "          \n",
       "          <tr>\n",
       "            <th class=\"row-header\">total_duration_mins</th>\n",
       "            <td>2703.1</td>\n",
       "            \n",
       "                <td>96.3</td>\n",
       "            \n",
       "                <td>325.6</td>\n",
       "            \n",
       "                <td>744.0</td>\n",
       "            \n",
       "                <td>758.6</td>\n",
       "            \n",
       "                <td>548.9</td>\n",
       "            \n",
       "                <td>38.3</td>\n",
       "            \n",
       "                <td>191.3</td>\n",
       "            \n",
       "          </tr>\n",
       "          \n",
       "          <tr>\n",
       "            <th class=\"row-header\">total_num_trips</th>\n",
       "            <td>103.0</td>\n",
       "            \n",
       "                <td>6.0</td>\n",
       "            \n",
       "                <td>31.0</td>\n",
       "            \n",
       "                <td>22.0</td>\n",
       "            \n",
       "                <td>11.0</td>\n",
       "            \n",
       "                <td>13.0</td>\n",
       "            \n",
       "                <td>2.0</td>\n",
       "            \n",
       "                <td>18.0</td>\n",
       "            \n",
       "          </tr>\n",
       "          \n",
       "          <tr>\n",
       "            <th class=\"row-header\">total_gas_cost</th>\n",
       "            <td>233.6</td>\n",
       "            \n",
       "                <td>2.5</td>\n",
       "            \n",
       "                <td>23.9</td>\n",
       "            \n",
       "                <td>66.3</td>\n",
       "            \n",
       "                <td>69.2</td>\n",
       "            \n",
       "                <td>51.1</td>\n",
       "            \n",
       "                <td>5.5</td>\n",
       "            \n",
       "                <td>15.1</td>\n",
       "            \n",
       "          </tr>\n",
       "          \n",
       "          <tr>\n",
       "            <th class=\"row-header\">avg_gallons_per_trip</th>\n",
       "            <td>0.6</td>\n",
       "            \n",
       "                <td>0.1</td>\n",
       "            \n",
       "                <td>0.2</td>\n",
       "            \n",
       "                <td>0.8</td>\n",
       "            \n",
       "                <td>1.8</td>\n",
       "            \n",
       "                <td>1.1</td>\n",
       "            \n",
       "                <td>0.7</td>\n",
       "            \n",
       "                <td>0.2</td>\n",
       "            \n",
       "          </tr>\n",
       "          \n",
       "          <tr>\n",
       "            <th class=\"row-header\">total_gallons</th>\n",
       "            <td>64.7</td>\n",
       "            \n",
       "                <td>0.7</td>\n",
       "            \n",
       "                <td>6.4</td>\n",
       "            \n",
       "                <td>17.8</td>\n",
       "            \n",
       "                <td>20.1</td>\n",
       "            \n",
       "                <td>14.0</td>\n",
       "            \n",
       "                <td>1.4</td>\n",
       "            \n",
       "                <td>4.3</td>\n",
       "            \n",
       "          </tr>\n",
       "          \n",
       "          <tr>\n",
       "            <th class=\"row-header\">total_miles</th>\n",
       "            <td>1938.4</td>\n",
       "            \n",
       "                <td>21.5</td>\n",
       "            \n",
       "                <td>89.2</td>\n",
       "            \n",
       "                <td>541.9</td>\n",
       "            \n",
       "                <td>751.4</td>\n",
       "            \n",
       "                <td>439.2</td>\n",
       "            \n",
       "                <td>20.7</td>\n",
       "            \n",
       "                <td>74.6</td>\n",
       "            \n",
       "          </tr>\n",
       "          \n",
       "          <tr>\n",
       "            <th class=\"row-header\">max_gforce_during_hard_brakes</th>\n",
       "            <td>0.7</td>\n",
       "            \n",
       "                <td>0.0</td>\n",
       "            \n",
       "                <td>0.0</td>\n",
       "            \n",
       "                <td>0.6</td>\n",
       "            \n",
       "                <td>0.4</td>\n",
       "            \n",
       "                <td>0.5</td>\n",
       "            \n",
       "                <td>0.7</td>\n",
       "            \n",
       "                <td>0.0</td>\n",
       "            \n",
       "          </tr>\n",
       "          \n",
       "        </tbody>\n",
       "      </table>\n",
       "    </div>\n",
       "  </div>\n",
       "  </body>\n",
       "</html>"
      ],
      "text/plain": [
       "<IPython.core.display.HTML object>"
      ]
     },
     "execution_count": 14,
     "metadata": {},
     "output_type": "execute_result"
    }
   ],
   "source": [
    "context = {\n",
    "    'summary': summary\n",
    "}\n",
    "HTML(render_template(\"display_summaries.html\", context))"
   ]
  },
  {
   "cell_type": "code",
   "execution_count": 15,
   "metadata": {
    "collapsed": false
   },
   "outputs": [],
   "source": [
    "summary_df = pd.DataFrame(summary['overall_summary'], index=[('overall', None)])\n",
    "\n",
    "for group in summary['per_vehicle_summaries'].keys():\n",
    "    summary_df = summary_df.append(pd.DataFrame(summary['per_vehicle_summaries'][group], \n",
    "                                                index=[('vehicle', group.split('/')[-2][-6:])]))\n",
    "    \n",
    "for group in summary['per_day_of_week_summaries'].keys():\n",
    "    summary_df = summary_df.append(pd.DataFrame(summary['per_day_of_week_summaries'][group], \n",
    "                                                index=[('day_of_week', group)]))\n",
    "\n",
    "for group in summary['per_tag_summaries'].keys():\n",
    "    summary_df = summary_df.append(pd.DataFrame(summary['per_tag_summaries'][group], \n",
    "                                                index=[('tag', group)]))"
   ]
  },
  {
   "cell_type": "code",
   "execution_count": 17,
   "metadata": {
    "collapsed": false
   },
   "outputs": [
    {
     "data": {
      "image/png": "[encoded data removed]",
      "text/plain": [
       "<matplotlib.figure.Figure at 0x10eb37e10>"
      ]
     },
     "metadata": {},
     "output_type": "display_data"
    },
    {
     "data": {
      "image/png": "[encoded data removed]",
      "text/plain": [
       "<matplotlib.figure.Figure at 0x10c645090>"
      ]
     },
     "metadata": {},
     "output_type": "display_data"
    },
    {
     "data": {
      "image/png": "[encoded data removed]",
      "text/plain": [
       "<matplotlib.figure.Figure at 0x1113d1610>"
      ]
     },
     "metadata": {},
     "output_type": "display_data"
    },
    {
     "data": {
      "image/png": "[encoded data removed]",
      "text/plain": [
       "<matplotlib.figure.Figure at 0x111483f10>"
      ]
     },
     "metadata": {},
     "output_type": "display_data"
    },
    {
     "data": {
      "image/png": "[encoded data removed]",
      "text/plain": [
       "<matplotlib.figure.Figure at 0x111525090>"
      ]
     },
     "metadata": {},
     "output_type": "display_data"
    },
    {
     "data": {
      "image/png": "[encoded data removed]",
      "text/plain": [
       "<matplotlib.figure.Figure at 0x1115a1790>"
      ]
     },
     "metadata": {},
     "output_type": "display_data"
    },
    {
     "data": {
      "image/png": "[encoded data removed]",
      "text/plain": [
       "<matplotlib.figure.Figure at 0x1116759d0>"
      ]
     },
     "metadata": {},
     "output_type": "display_data"
    },
    {
     "data": {
      "image/png": "[encoded data removed]",
      "text/plain": [
       "<matplotlib.figure.Figure at 0x111712e10>"
      ]
     },
     "metadata": {},
     "output_type": "display_data"
    },
    {
     "data": {
      "image/png": "[encoded data removed]",
      "text/plain": [
       "<matplotlib.figure.Figure at 0x1117e32d0>"
      ]
     },
     "metadata": {},
     "output_type": "display_data"
    },
    {
     "data": {
      "image/png": "[encoded data removed]",
      "text/plain": [
       "<matplotlib.figure.Figure at 0x11186cb90>"
      ]
     },
     "metadata": {},
     "output_type": "display_data"
    },
    {
     "data": {
      "image/png": "[encoded data removed]",
      "text/plain": [
       "<matplotlib.figure.Figure at 0x1118f6d50>"
      ]
     },
     "metadata": {},
     "output_type": "display_data"
    },
    {
     "data": {
      "image/png": "[encoded data removed]",
      "text/plain": [
       "<matplotlib.figure.Figure at 0x1119b6e50>"
      ]
     },
     "metadata": {},
     "output_type": "display_data"
    },
    {
     "data": {
      "image/png": "[encoded data removed]",
      "text/plain": [
       "<matplotlib.figure.Figure at 0x111a6a190>"
      ]
     },
     "metadata": {},
     "output_type": "display_data"
    },
    {
     "data": {
      "image/png": "[encoded data removed]",
      "text/plain": [
       "<matplotlib.figure.Figure at 0x111c18610>"
      ]
     },
     "metadata": {},
     "output_type": "display_data"
    },
    {
     "data": {
      "image/png": "[encoded data removed]",
      "text/plain": [
       "<matplotlib.figure.Figure at 0x111adce50>"
      ]
     },
     "metadata": {},
     "output_type": "display_data"
    },
    {
     "data": {
      "image/png": "[encoded data removed]",
      "text/plain": [
       "<matplotlib.figure.Figure at 0x111c77050>"
      ]
     },
     "metadata": {},
     "output_type": "display_data"
    },
    {
     "data": {
      "image/png": "[encoded data removed]",
      "text/plain": [
       "<matplotlib.figure.Figure at 0x111d2cf50>"
      ]
     },
     "metadata": {},
     "output_type": "display_data"
    },
    {
     "data": {
      "image/png": "[encoded data removed]",
      "text/plain": [
       "<matplotlib.figure.Figure at 0x111da07d0>"
      ]
     },
     "metadata": {},
     "output_type": "display_data"
    },
    {
     "data": {
      "image/png": "[encoded data removed]",
      "text/plain": [
       "<matplotlib.figure.Figure at 0x111e49f90>"
      ]
     },
     "metadata": {},
     "output_type": "display_data"
    },
    {
     "data": {
      "image/png": "[encoded data removed]",
      "text/plain": [
       "<matplotlib.figure.Figure at 0x111f14f50>"
      ]
     },
     "metadata": {},
     "output_type": "display_data"
    },
    {
     "data": {
      "image/png": "[encoded data removed]",
      "text/plain": [
       "<matplotlib.figure.Figure at 0x111fb2bd0>"
      ]
     },
     "metadata": {},
     "output_type": "display_data"
    },
    {
     "data": {
      "image/png": "[encoded data removed]",
      "text/plain": [
       "<matplotlib.figure.Figure at 0x112052fd0>"
      ]
     },
     "metadata": {},
     "output_type": "display_data"
    },
    {
     "data": {
      "image/png": "[encoded data removed]",
      "text/plain": [
       "<matplotlib.figure.Figure at 0x1120d1fd0>"
      ]
     },
     "metadata": {},
     "output_type": "display_data"
    },
    {
     "data": {
      "image/png": "[encoded data removed]",
      "text/plain": [
       "<matplotlib.figure.Figure at 0x1122ba850>"
      ]
     },
     "metadata": {},
     "output_type": "display_data"
    },
    {
     "data": {
      "image/png": "[encoded data removed]",
      "text/plain": [
       "<matplotlib.figure.Figure at 0x1122ba910>"
      ]
     },
     "metadata": {},
     "output_type": "display_data"
    },
    {
     "data": {
      "image/png": "[encoded data removed]",
      "text/plain": [
       "<matplotlib.figure.Figure at 0x1122effd0>"
      ]
     },
     "metadata": {},
     "output_type": "display_data"
    },
    {
     "data": {
      "image/png": "[encoded data removed]",
      "text/plain": [
       "<matplotlib.figure.Figure at 0x11249d410>"
      ]
     },
     "metadata": {},
     "output_type": "display_data"
    },
    {
     "data": {
      "image/png": "[encoded data removed]",
      "text/plain": [
       "<matplotlib.figure.Figure at 0x1116b3ad0>"
      ]
     },
     "metadata": {},
     "output_type": "display_data"
    },
    {
     "data": {
      "image/png": "[encoded data removed]",
      "text/plain": [
       "<matplotlib.figure.Figure at 0x10ebc3050>"
      ]
     },
     "metadata": {},
     "output_type": "display_data"
    },
    {
     "data": {
      "image/png": "[encoded data removed]",
      "text/plain": [
       "<matplotlib.figure.Figure at 0x111c18790>"
      ]
     },
     "metadata": {},
     "output_type": "display_data"
    },
    {
     "data": {
      "image/png": "[encoded data removed]",
      "text/plain": [
       "<matplotlib.figure.Figure at 0x111021390>"
      ]
     },
     "metadata": {},
     "output_type": "display_data"
    },
    {
     "data": {
      "image/png": "[encoded data removed]",
      "text/plain": [
       "<matplotlib.figure.Figure at 0x10e3fff90>"
      ]
     },
     "metadata": {},
     "output_type": "display_data"
    },
    {
     "data": {
      "image/png": "[encoded data removed]",
      "text/plain": [
       "<matplotlib.figure.Figure at 0x10d8c6750>"
      ]
     },
     "metadata": {},
     "output_type": "display_data"
    },
    {
     "data": {
      "image/png": "[encoded data removed]",
      "text/plain": [
       "<matplotlib.figure.Figure at 0x10d077350>"
      ]
     },
     "metadata": {},
     "output_type": "display_data"
    },
    {
     "data": {
      "image/png": "[encoded data removed]",
      "text/plain": [
       "<matplotlib.figure.Figure at 0x10c63c050>"
      ]
     },
     "metadata": {},
     "output_type": "display_data"
    },
    {
     "data": {
      "image/png": "[encoded data removed]",
      "text/plain": [
       "<matplotlib.figure.Figure at 0x10c15fa10>"
      ]
     },
     "metadata": {},
     "output_type": "display_data"
    },
    {
     "data": {
      "image/png": "[encoded data removed]",
      "text/plain": [
       "<matplotlib.figure.Figure at 0x10b9aed50>"
      ]
     },
     "metadata": {},
     "output_type": "display_data"
    },
    {
     "data": {
      "image/png": "[encoded data removed]",
      "text/plain": [
       "<matplotlib.figure.Figure at 0x10b24d810>"
      ]
     },
     "metadata": {},
     "output_type": "display_data"
    },
    {
     "data": {
      "image/png": "[encoded data removed]",
      "text/plain": [
       "<matplotlib.figure.Figure at 0x10e866c10>"
      ]
     },
     "metadata": {},
     "output_type": "display_data"
    },
    {
     "data": {
      "image/png": "[encoded data removed]",
      "text/plain": [
       "<matplotlib.figure.Figure at 0x10c27dd10>"
      ]
     },
     "metadata": {},
     "output_type": "display_data"
    },
    {
     "data": {
      "image/png": "[encoded data removed]",
      "text/plain": [
       "<matplotlib.figure.Figure at 0x10eab0a90>"
      ]
     },
     "metadata": {},
     "output_type": "display_data"
    },
    {
     "data": {
      "image/png": "[encoded data removed]",
      "text/plain": [
       "<matplotlib.figure.Figure at 0x10cbcfe50>"
      ]
     },
     "metadata": {},
     "output_type": "display_data"
    },
    {
     "data": {
      "image/png": "[encoded data removed]",
      "text/plain": [
       "<matplotlib.figure.Figure at 0x10c362150>"
      ]
     },
     "metadata": {},
     "output_type": "display_data"
    },
    {
     "data": {
      "image/png": "[encoded data removed]",
      "text/plain": [
       "<matplotlib.figure.Figure at 0x10d448a50>"
      ]
     },
     "metadata": {},
     "output_type": "display_data"
    },
    {
     "data": {
      "image/png": "[encoded data removed]",
      "text/plain": [
       "<matplotlib.figure.Figure at 0x10de81a10>"
      ]
     },
     "metadata": {},
     "output_type": "display_data"
    },
    {
     "data": {
      "image/png": "[encoded data removed]",
      "text/plain": [
       "<matplotlib.figure.Figure at 0x10bc679d0>"
      ]
     },
     "metadata": {},
     "output_type": "display_data"
    },
    {
     "data": {
      "image/png": "[encoded data removed]",
      "text/plain": [
       "<matplotlib.figure.Figure at 0x10d548250>"
      ]
     },
     "metadata": {},
     "output_type": "display_data"
    },
    {
     "data": {
      "image/png": "[encoded data removed]",
      "text/plain": [
       "<matplotlib.figure.Figure at 0x10d548310>"
      ]
     },
     "metadata": {},
     "output_type": "display_data"
    },
    {
     "data": {
      "image/png": "[encoded data removed]",
      "text/plain": [
       "<matplotlib.figure.Figure at 0x10d510290>"
      ]
     },
     "metadata": {},
     "output_type": "display_data"
    },
    {
     "data": {
      "image/png": "[encoded data removed]",
      "text/plain": [
       "<matplotlib.figure.Figure at 0x10e31eb10>"
      ]
     },
     "metadata": {},
     "output_type": "display_data"
    },
    {
     "data": {
      "image/png": "[encoded data removed]",
      "text/plain": [
       "<matplotlib.figure.Figure at 0x10f6b6c90>"
      ]
     },
     "metadata": {},
     "output_type": "display_data"
    },
    {
     "data": {
      "image/png": "[encoded data removed]",
      "text/plain": [
       "<matplotlib.figure.Figure at 0x10c103d10>"
      ]
     },
     "metadata": {},
     "output_type": "display_data"
    },
    {
     "data": {
      "image/png": "[encoded data removed]",
      "text/plain": [
       "<matplotlib.figure.Figure at 0x10c125e50>"
      ]
     },
     "metadata": {},
     "output_type": "display_data"
    },
    {
     "data": {
      "image/png": "[encoded data removed]",
      "text/plain": [
       "<matplotlib.figure.Figure at 0x10b5df7d0>"
      ]
     },
     "metadata": {},
     "output_type": "display_data"
    },
    {
     "data": {
      "image/png": "[encoded data removed]",
      "text/plain": [
       "<matplotlib.figure.Figure at 0x10c564350>"
      ]
     },
     "metadata": {},
     "output_type": "display_data"
    },
    {
     "data": {
      "image/png": "[encoded data removed]",
      "text/plain": [
       "<matplotlib.figure.Figure at 0x10cf9ac50>"
      ]
     },
     "metadata": {},
     "output_type": "display_data"
    },
    {
     "data": {
      "image/png": "[encoded data removed]",
      "text/plain": [
       "<matplotlib.figure.Figure at 0x10d9909d0>"
      ]
     },
     "metadata": {},
     "output_type": "display_data"
    },
    {
     "data": {
      "image/png": "[encoded data removed]",
      "text/plain": [
       "<matplotlib.figure.Figure at 0x10e8e9f10>"
      ]
     },
     "metadata": {},
     "output_type": "display_data"
    },
    {
     "data": {
      "image/png": "[encoded data removed]",
      "text/plain": [
       "<matplotlib.figure.Figure at 0x10b4ea710>"
      ]
     },
     "metadata": {},
     "output_type": "display_data"
    },
    {
     "data": {
      "image/png": "[encoded data removed]",
      "text/plain": [
       "<matplotlib.figure.Figure at 0x10cef8410>"
      ]
     },
     "metadata": {},
     "output_type": "display_data"
    },
    {
     "data": {
      "image/png": "[encoded data removed]",
      "text/plain": [
       "<matplotlib.figure.Figure at 0x10b6751d0>"
      ]
     },
     "metadata": {},
     "output_type": "display_data"
    },
    {
     "data": {
      "image/png": "[encoded data removed]",
      "text/plain": [
       "<matplotlib.figure.Figure at 0x10ca08ed0>"
      ]
     },
     "metadata": {},
     "output_type": "display_data"
    },
    {
     "data": {
      "image/png": "[encoded data removed]",
      "text/plain": [
       "<matplotlib.figure.Figure at 0x10d9dd090>"
      ]
     },
     "metadata": {},
     "output_type": "display_data"
    },
    {
     "data": {
      "image/png": "[encoded data removed]",
      "text/plain": [
       "<matplotlib.figure.Figure at 0x10e695f10>"
      ]
     },
     "metadata": {},
     "output_type": "display_data"
    },
    {
     "data": {
      "image/png": "[encoded data removed]",
      "text/plain": [
       "<matplotlib.figure.Figure at 0x10d714190>"
      ]
     },
     "metadata": {},
     "output_type": "display_data"
    },
    {
     "data": {
      "image/png": "[encoded data removed]",
      "text/plain": [
       "<matplotlib.figure.Figure at 0x10be40050>"
      ]
     },
     "metadata": {},
     "output_type": "display_data"
    },
    {
     "data": {
      "image/png": "[encoded data removed]",
      "text/plain": [
       "<matplotlib.figure.Figure at 0x10b5b3790>"
      ]
     },
     "metadata": {},
     "output_type": "display_data"
    },
    {
     "data": {
      "image/png": "[encoded data removed]",
      "text/plain": [
       "<matplotlib.figure.Figure at 0x10b5b3d50>"
      ]
     },
     "metadata": {},
     "output_type": "display_data"
    },
    {
     "data": {
      "image/png": "[encoded data removed]",
      "text/plain": [
       "<matplotlib.figure.Figure at 0x10b94eb90>"
      ]
     },
     "metadata": {},
     "output_type": "display_data"
    }
   ],
   "source": [
    "def grouping_function(group):\n",
    "    def f(x):\n",
    "        return x[0] == group or x[0] == 'overall'\n",
    "    return f\n",
    "\n",
    "groups = ['tag', 'day_of_week', 'vehicle']\n",
    "for group in groups:\n",
    "    summ_df = summary_df[summary_df.index.map(grouping_function(group))].transpose()\n",
    "    for i in xrange(len(summ_df)):\n",
    "        summ_df.ix[i:i+1,:].plot(kind='barh', legend=(True if i == 0 else False))    "
   ]
  },
  {
   "cell_type": "code",
   "execution_count": null,
   "metadata": {
    "collapsed": true
   },
   "outputs": [],
   "source": []
  }
 ],
 "metadata": {
  "kernelspec": {
   "display_name": "Python 2",
   "language": "python",
   "name": "python2"
  },
  "language_info": {
   "codemirror_mode": {
    "name": "ipython",
    "version": 2
   },
   "file_extension": ".py",
   "mimetype": "text/x-python",
   "name": "python",
   "nbconvert_exporter": "python",
   "pygments_lexer": "ipython2",
   "version": "2.7.10"
  }
 },
 "nbformat": 4,
 "nbformat_minor": 0
}
